{
 "cells": [
  {
   "cell_type": "markdown",
   "metadata": {},
   "source": [
    "## Importing the libraries"
   ]
  },
  {
   "cell_type": "code",
   "execution_count": 2,
   "metadata": {},
   "outputs": [],
   "source": [
    "import os\n",
    "import pandas as pd\n",
    "import numpy as np\n",
    "import json\n",
    "import spotipy\n",
    "import spotipy.oauth2 as oauth2\n",
    "from spotipy.oauth2 import SpotifyOAuth,SpotifyClientCredentials\n",
    "import re\n",
    "from tqdm import tqdm\n",
    "import multiprocessing as mp\n",
    "import time\n",
    "import random\n",
    "import datetime"
   ]
  },
  {
   "cell_type": "code",
   "execution_count": 3,
   "metadata": {},
   "outputs": [
    {
     "data": {
      "text/plain": [
       "True"
      ]
     },
     "execution_count": 3,
     "metadata": {},
     "output_type": "execute_result"
    }
   ],
   "source": [
    "import os\n",
    "from dotenv import load_dotenv\n",
    "\n",
    "# Load environment variables from .env file\n",
    "load_dotenv(\"../spotify_extraction.env\")"
   ]
  },
  {
   "cell_type": "code",
   "execution_count": 4,
   "metadata": {},
   "outputs": [],
   "source": [
    "auth_manager = SpotifyClientCredentials(client_id=os.getenv('SPOTIPY_CLIENT_ID'),\n",
    "                                        client_secret=os.getenv('SPOTIPY_CLIENT_SECRET'))\n",
    "sp = spotipy.client.Spotify(auth_manager=auth_manager)"
   ]
  },
  {
   "cell_type": "code",
   "execution_count": 5,
   "metadata": {},
   "outputs": [],
   "source": [
    "import pandas as pd\n",
    "\n",
    "# Replace 'path_to_csv.csv' with the path to your actual CSV file\n",
    "csv_path = 'V1.csv'\n",
    "\n",
    "# Load the CSV data into a DataFrame\n",
    "df = pd.read_csv(csv_path)"
   ]
  },
  {
   "cell_type": "code",
   "execution_count": 8,
   "metadata": {},
   "outputs": [],
   "source": [
    "t_uri=df[\"track_uri\"].unique()\n",
    "a_uri=df[\"artist_uri\"].unique()"
   ]
  },
  {
   "cell_type": "markdown",
   "metadata": {},
   "source": [
    "# Feature extraction"
   ]
  },
  {
   "cell_type": "markdown",
   "metadata": {},
   "source": [
    "Using the Spotify API for Feature Extraction and Saving Results to a CSV File and Errors to a Log File\n",
    "\n",
    "I was using SP.track first, but I realised that it would take a lot of time and I would have to counter a lot of Api rate limits, so I used SP.tracks and SP.artists instead. They accept lists with a 50-URI maximum and handle them in a single request, so it took a lot less time."
   ]
  },
  {
   "cell_type": "code",
   "execution_count": 9,
   "metadata": {},
   "outputs": [],
   "source": [
    "# Function to find the last logged URI in the CSV\n",
    "def find_last_logged_uri(file_path):\n",
    "    try:\n",
    "        df = pd.read_csv(file_path)\n",
    "        last_uri = df.iloc[-1, 0]  # Assuming the URI is in the first column\n",
    "        return last_uri\n",
    "    except Exception as e:\n",
    "        print(f\"Error reading the file: {e}\")\n",
    "        return None\n",
    "\n",
    "# Find the last URI and determine the starting index\n",
    "last_uri = find_last_logged_uri('data/artist_features.csv')\n",
    "start_index = 0\n",
    "if last_uri and last_uri in a_uri:\n",
    "    index_array = np.where(a_uri == last_uri)[0]\n",
    "    if index_array.size > 0:\n",
    "        start_index = index_array[0] + 1"
   ]
  },
  {
   "cell_type": "code",
   "execution_count": 10,
   "metadata": {},
   "outputs": [],
   "source": [
    "artist_features = sp.artists(a_uri[start_index:start_index+50])"
   ]
  },
  {
   "cell_type": "code",
   "execution_count": 9,
   "metadata": {},
   "outputs": [
    {
     "name": "stderr",
     "output_type": "stream",
     "text": [
      "  0%|          | 0/3641 [00:00<?, ?it/s]"
     ]
    }
   ],
   "source": [
    "# Constants\n",
    "REQUESTS_PER_MINUTE = 180\n",
    "SECONDS_PER_MINUTE = 60\n",
    "DELAY = SECONDS_PER_MINUTE / REQUESTS_PER_MINUTE  # Calculate delay to fit the rate limit\n",
    "\n",
    "f = open('data/artist_features.csv', 'a')\n",
    "e = 0\n",
    "\n",
    "for i in tqdm(range(start_index, len(a_uri), 50)):\n",
    "    try:\n",
    "        time.sleep(DELAY)\n",
    "        artist_features = sp.artists(a_uri[i:i+50])\n",
    "        for x in range(min(50, len(a_uri) - i)):  # Ensure no index out of range\n",
    "            artist_df = pd.DataFrame([a_uri[i+x]])\n",
    "            artist_pop = artist_features['artists'][x][\"popularity\"]\n",
    "            artist_genres = artist_features['artists'][x][\"genres\"]\n",
    "            artist_df[\"artist_pop\"] = artist_pop\n",
    "            if artist_genres:\n",
    "                artist_df[\"genres\"] = \" \".join([re.sub(' ', '_', genre) for genre in artist_genres])\n",
    "            else:\n",
    "                artist_df[\"genres\"] = \"unknown\"\n",
    "            csv_data = artist_df.to_csv(header=False, index=False)\n",
    "            f.write(csv_data)\n",
    "    except Exception as error:\n",
    "        e += 1\n",
    "        r = open(\"artist_features.txt\", \"a\")\n",
    "        r.write(datetime.datetime.now().strftime(\"%d.%b %Y %H:%M:%S\") + \": \" + str(error) + '\\n')\n",
    "        r.close()\n",
    "        time.sleep(3)\n",
    "        continue\n",
    "\n",
    "# Logging the final count of errors\n",
    "r = open(\"artist_features.txt\", \"a\")\n",
    "r.write(datetime.datetime.now().strftime(\"%d.%b %Y %H:%M:%S\") + \" _________________________ \" + \"Total Number Of Errors : \" + str(e) + \" _________________________ \" + '\\n')\n",
    "r.close()\n",
    "\n",
    "# Closing the file\n",
    "f.close()"
   ]
  },
  {
   "cell_type": "markdown",
   "metadata": {},
   "source": [
    "# Ignore"
   ]
  },
  {
   "cell_type": "code",
   "execution_count": 15,
   "metadata": {},
   "outputs": [
    {
     "name": "stderr",
     "output_type": "stream",
     "text": [
      " 39%|███▊      | 2281/5918 [21:00<31:16,  1.94it/s]  "
     ]
    }
   ],
   "source": [
    "# Constants\n",
    "REQUESTS_PER_MINUTE = 180\n",
    "SECONDS_PER_MINUTE = 60\n",
    "DELAY = SECONDS_PER_MINUTE / REQUESTS_PER_MINUTE  # Calculate delay to fit the rate limit\n",
    "\n",
    "f = open('data/artist_features.csv', 'a')\n",
    "e = 0\n",
    "\n",
    "for i in tqdm(range(0, len(a_uri), 50)):\n",
    "    try:\n",
    "        # Delay each request to ensure we do not exceed the rate limit of 180 requests per minute\n",
    "        time.sleep(DELAY)\n",
    "\n",
    "        artist_features = sp.artists(a_uri[i:i+50])\n",
    "        for x in range(50):\n",
    "            artist_df = pd.DataFrame([a_uri[i+x]])\n",
    "            artist_pop = artist_features['artists'][x][\"popularity\"]\n",
    "            artist_genres = artist_features['artists'][x][\"genres\"]\n",
    "            artist_df[\"artist_pop\"] = artist_pop\n",
    "            if artist_genres:\n",
    "                artist_df[\"genres\"] = \" \".join([re.sub(' ', '_', genre) for genre in artist_genres])\n",
    "            else:\n",
    "                artist_df[\"genres\"] = \"unknown\"\n",
    "            csv_data = artist_df.to_csv(header=False, index=False)\n",
    "            f.write(csv_data)\n",
    "    except Exception as error:\n",
    "        e += 1\n",
    "        r = open(\"artist_features.txt\", \"a\")\n",
    "        r.write(datetime.datetime.now().strftime(\"%d.%b %Y %H:%M:%S\") + \": \" + str(error) + '\\n')\n",
    "        r.close()\n",
    "        time.sleep(3)\n",
    "        continue\n",
    "\n",
    "# Logging the final count of errors\n",
    "r = open(\"artist_features.txt\", \"a\")\n",
    "r.write(datetime.datetime.now().strftime(\"%d.%b %Y %H:%M:%S\") + \" _________________________ \" + \"Total Number Of Errors : \" + str(e) + \" _________________________ \" + '\\n')\n",
    "r.close()\n",
    "\n",
    "# Closing the file\n",
    "f.close()"
   ]
  }
 ],
 "metadata": {
  "kernelspec": {
   "display_name": "Python 3.9.13 ('base')",
   "language": "python",
   "name": "python3"
  },
  "language_info": {
   "codemirror_mode": {
    "name": "ipython",
    "version": 3
   },
   "file_extension": ".py",
   "mimetype": "text/x-python",
   "name": "python",
   "nbconvert_exporter": "python",
   "pygments_lexer": "ipython3",
   "version": "3.11.5"
  },
  "orig_nbformat": 4,
  "vscode": {
   "interpreter": {
    "hash": "e246d2215c418239c9316a1ebf2d8abb44dc50b2e5b0e29defd87143398aa387"
   }
  }
 },
 "nbformat": 4,
 "nbformat_minor": 2
}
