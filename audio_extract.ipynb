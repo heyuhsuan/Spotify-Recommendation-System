{
 "cells": [
  {
   "cell_type": "markdown",
   "metadata": {},
   "source": [
    "## Importing the libraries"
   ]
  },
  {
   "cell_type": "code",
   "execution_count": null,
   "metadata": {},
   "outputs": [],
   "source": [
    "import os\n",
    "import pandas as pd\n",
    "import numpy as np\n",
    "import json\n",
    "import spotipy\n",
    "import spotipy.oauth2 as oauth2\n",
    "from spotipy.oauth2 import SpotifyOAuth,SpotifyClientCredentials\n",
    "import re\n",
    "from tqdm import tqdm\n",
    "import multiprocessing as mp\n",
    "import time\n",
    "import random\n",
    "import datetime"
   ]
  },
  {
   "cell_type": "code",
   "execution_count": 2,
   "metadata": {},
   "outputs": [],
   "source": [
    "import os\n",
    "from dotenv import load_dotenv\n",
    "\n",
    "# Load environment variables from .env file\n",
    "load_dotenv(\"spotify_secrets.env\")\n",
    "auth_manager = SpotifyClientCredentials(client_id=os.getenv('SPOTIPY_CLIENT_ID'),\n",
    "                                        client_secret=os.getenv('SPOTIPY_CLIENT_SECRET'))\n",
    "sp = spotipy.client.Spotify(auth_manager=auth_manager)"
   ]
  },
  {
   "cell_type": "code",
   "execution_count": 4,
   "metadata": {},
   "outputs": [],
   "source": [
    "# Replace 'path_to_csv.csv' with the path to your actual CSV file\n",
    "csv_path = 'V1.csv'\n",
    "\n",
    "# Load the CSV data into a DataFrame\n",
    "df = pd.read_csv(csv_path)"
   ]
  },
  {
   "cell_type": "code",
   "execution_count": 5,
   "metadata": {},
   "outputs": [
    {
     "data": {
      "text/plain": [
       "Index(['track_uri', 'artist_uri', 'album_uri'], dtype='object')"
      ]
     },
     "execution_count": 5,
     "metadata": {},
     "output_type": "execute_result"
    }
   ],
   "source": [
    "df.columns"
   ]
  },
  {
   "cell_type": "code",
   "execution_count": null,
   "metadata": {},
   "outputs": [],
   "source": [
    "t_uri=df[\"track_uri\"].unique()\n",
    "a_uri=df[\"artist_uri\"].unique()"
   ]
  },
  {
   "cell_type": "markdown",
   "metadata": {},
   "source": [
    "# Feature extraction"
   ]
  },
  {
   "cell_type": "markdown",
   "metadata": {},
   "source": [
    "Using the Spotify API for Feature Extraction and Saving Results to a CSV File and Errors to a Log File\n",
    "\n",
    "I was using SP.track first, but I realised that it would take a lot of time and I would have to counter a lot of Api rate limits, so I used SP.tracks and SP.artists instead. They accept lists with a 50-URI maximum and handle them in a single request, so it took a lot less time."
   ]
  },
  {
   "cell_type": "code",
   "execution_count": 7,
   "metadata": {},
   "outputs": [],
   "source": [
    "# Function to find the last logged URI in the CSV\n",
    "def find_last_logged_uri(file_path):\n",
    "    try:\n",
    "        df = pd.read_csv(file_path)\n",
    "        last_uri = df.iloc[-1, 0]  # Assuming the URI is in the first column\n",
    "        return last_uri\n",
    "    except Exception as e:\n",
    "        print(f\"Error reading the file: {e}\")\n",
    "        return None\n",
    "\n",
    "# Find the last URI and determine the starting index\n",
    "last_uri = find_last_logged_uri('data/audio_features.csv')\n",
    "start_index = 0\n",
    "if last_uri and last_uri in t_uri:\n",
    "    index_array = np.where(a_uri == last_uri)[0]\n",
    "    if index_array.size > 0:\n",
    "        start_index = index_array[0] + 1"
   ]
  },
  {
   "cell_type": "code",
   "execution_count": null,
   "metadata": {},
   "outputs": [],
   "source": [
    "# Constants\n",
    "REQUESTS_PER_MINUTE = 180\n",
    "SECONDS_PER_MINUTE = 60\n",
    "DELAY = SECONDS_PER_MINUTE / REQUESTS_PER_MINUTE  # Calculate delay to fit the rate limit\n",
    "\n",
    "f = open('data/audio_features.csv', 'a')\n",
    "e = 0\n",
    "\n",
    "for i in tqdm(range(start_index, len(t_uri), 100)):\n",
    "    try:\n",
    "        time.sleep(DELAY)\n",
    "        track_feature = sp.audio_features(t_uri[i:i+100])\n",
    "        track_df = pd.DataFrame(track_feature)\n",
    "        csv_data = track_df.to_csv(header=False,index=False)\n",
    "        f.write(csv_data)\n",
    "    except Exception as error:\n",
    "        e+=1\n",
    "        r = open(\"audio_features_log.txt\", \"a\")\n",
    "        r.write(datetime.datetime.now().strftime(\"%d.%b %Y %H:%M:%S\")+\": \"+str(error)+'\\n')\n",
    "        r.close()\n",
    "        time.sleep(3)\n",
    "        continue\n",
    "\n",
    "# Logging the final count of errors\n",
    "r = open(\"audio_features.txt\", \"a\")\n",
    "r.write(datetime.datetime.now().strftime(\"%d.%b %Y %H:%M:%S\") + \" _________________________ \" + \"Total Number Of Errors : \" + str(e) + \" _________________________ \" + '\\n')\n",
    "r.close()\n",
    "\n",
    "# Closing the file\n",
    "f.close()"
   ]
  },
  {
   "cell_type": "markdown",
   "metadata": {},
   "source": [
    "# Ignore"
   ]
  },
  {
   "cell_type": "code",
   "execution_count": null,
   "metadata": {},
   "outputs": [
    {
     "name": "stderr",
     "output_type": "stream",
     "text": [
      "  0%|          | 0/22623 [00:00<?, ?it/s]"
     ]
    },
    {
     "name": "stderr",
     "output_type": "stream",
     "text": [
      "  9%|▉         | 2002/22623 [08:20<2:18:09,  2.49it/s] Max Retries reached\n",
      "  9%|▉         | 2003/22623 [08:35<27:52:24,  4.87s/it]Max Retries reached\n",
      "  9%|▉         | 2004/22623 [08:47<40:11:52,  7.02s/it]Max Retries reached\n",
      "  9%|▉         | 2005/22623 [08:59<48:46:23,  8.52s/it]Max Retries reached\n",
      "  9%|▉         | 2006/22623 [09:11<54:54:48,  9.59s/it]Max Retries reached\n",
      "  9%|▉         | 2007/22623 [09:23<59:06:13, 10.32s/it]Max Retries reached\n",
      "  9%|▉         | 2008/22623 [09:35<62:02:00, 10.83s/it]Max Retries reached\n",
      "  9%|▉         | 2009/22623 [09:47<64:05:33, 11.19s/it]Max Retries reached\n",
      "  9%|▉         | 2009/22623 [09:59<1:42:35,  3.35it/s] \n"
     ]
    },
    {
     "ename": "KeyboardInterrupt",
     "evalue": "",
     "output_type": "error",
     "traceback": [
      "\u001b[1;31m---------------------------------------------------------------------------\u001b[0m\n",
      "\u001b[1;31mMaxRetryError\u001b[0m                             Traceback (most recent call last)\n",
      "File \u001b[1;32mc:\\Python311\\Lib\\site-packages\\requests\\adapters.py:487\u001b[0m, in \u001b[0;36mHTTPAdapter.send\u001b[1;34m(self, request, stream, timeout, verify, cert, proxies)\u001b[0m\n",
      "\u001b[0;32m    486\u001b[0m \u001b[38;5;28;01mtry\u001b[39;00m:\n",
      "\u001b[1;32m--> 487\u001b[0m     resp \u001b[38;5;241m=\u001b[39m \u001b[43mconn\u001b[49m\u001b[38;5;241;43m.\u001b[39;49m\u001b[43murlopen\u001b[49m\u001b[43m(\u001b[49m\n",
      "\u001b[0;32m    488\u001b[0m \u001b[43m        \u001b[49m\u001b[43mmethod\u001b[49m\u001b[38;5;241;43m=\u001b[39;49m\u001b[43mrequest\u001b[49m\u001b[38;5;241;43m.\u001b[39;49m\u001b[43mmethod\u001b[49m\u001b[43m,\u001b[49m\n",
      "\u001b[0;32m    489\u001b[0m \u001b[43m        \u001b[49m\u001b[43murl\u001b[49m\u001b[38;5;241;43m=\u001b[39;49m\u001b[43murl\u001b[49m\u001b[43m,\u001b[49m\n",
      "\u001b[0;32m    490\u001b[0m \u001b[43m        \u001b[49m\u001b[43mbody\u001b[49m\u001b[38;5;241;43m=\u001b[39;49m\u001b[43mrequest\u001b[49m\u001b[38;5;241;43m.\u001b[39;49m\u001b[43mbody\u001b[49m\u001b[43m,\u001b[49m\n",
      "\u001b[0;32m    491\u001b[0m \u001b[43m        \u001b[49m\u001b[43mheaders\u001b[49m\u001b[38;5;241;43m=\u001b[39;49m\u001b[43mrequest\u001b[49m\u001b[38;5;241;43m.\u001b[39;49m\u001b[43mheaders\u001b[49m\u001b[43m,\u001b[49m\n",
      "\u001b[0;32m    492\u001b[0m \u001b[43m        \u001b[49m\u001b[43mredirect\u001b[49m\u001b[38;5;241;43m=\u001b[39;49m\u001b[38;5;28;43;01mFalse\u001b[39;49;00m\u001b[43m,\u001b[49m\n",
      "\u001b[0;32m    493\u001b[0m \u001b[43m        \u001b[49m\u001b[43massert_same_host\u001b[49m\u001b[38;5;241;43m=\u001b[39;49m\u001b[38;5;28;43;01mFalse\u001b[39;49;00m\u001b[43m,\u001b[49m\n",
      "\u001b[0;32m    494\u001b[0m \u001b[43m        \u001b[49m\u001b[43mpreload_content\u001b[49m\u001b[38;5;241;43m=\u001b[39;49m\u001b[38;5;28;43;01mFalse\u001b[39;49;00m\u001b[43m,\u001b[49m\n",
      "\u001b[0;32m    495\u001b[0m \u001b[43m        \u001b[49m\u001b[43mdecode_content\u001b[49m\u001b[38;5;241;43m=\u001b[39;49m\u001b[38;5;28;43;01mFalse\u001b[39;49;00m\u001b[43m,\u001b[49m\n",
      "\u001b[0;32m    496\u001b[0m \u001b[43m        \u001b[49m\u001b[43mretries\u001b[49m\u001b[38;5;241;43m=\u001b[39;49m\u001b[38;5;28;43mself\u001b[39;49m\u001b[38;5;241;43m.\u001b[39;49m\u001b[43mmax_retries\u001b[49m\u001b[43m,\u001b[49m\n",
      "\u001b[0;32m    497\u001b[0m \u001b[43m        \u001b[49m\u001b[43mtimeout\u001b[49m\u001b[38;5;241;43m=\u001b[39;49m\u001b[43mtimeout\u001b[49m\u001b[43m,\u001b[49m\n",
      "\u001b[0;32m    498\u001b[0m \u001b[43m        \u001b[49m\u001b[43mchunked\u001b[49m\u001b[38;5;241;43m=\u001b[39;49m\u001b[43mchunked\u001b[49m\u001b[43m,\u001b[49m\n",
      "\u001b[0;32m    499\u001b[0m \u001b[43m    \u001b[49m\u001b[43m)\u001b[49m\n",
      "\u001b[0;32m    501\u001b[0m \u001b[38;5;28;01mexcept\u001b[39;00m (ProtocolError, \u001b[38;5;167;01mOSError\u001b[39;00m) \u001b[38;5;28;01mas\u001b[39;00m err:\n",
      "\n",
      "File \u001b[1;32mc:\\Python311\\Lib\\site-packages\\urllib3\\connectionpool.py:894\u001b[0m, in \u001b[0;36mHTTPConnectionPool.urlopen\u001b[1;34m(self, method, url, body, headers, retries, redirect, assert_same_host, timeout, pool_timeout, release_conn, chunked, body_pos, **response_kw)\u001b[0m\n",
      "\u001b[0;32m    893\u001b[0m     log\u001b[38;5;241m.\u001b[39mdebug(\u001b[38;5;124m\"\u001b[39m\u001b[38;5;124mRetry: \u001b[39m\u001b[38;5;132;01m%s\u001b[39;00m\u001b[38;5;124m\"\u001b[39m, url)\n",
      "\u001b[1;32m--> 894\u001b[0m     \u001b[38;5;28;01mreturn\u001b[39;00m \u001b[38;5;28;43mself\u001b[39;49m\u001b[38;5;241;43m.\u001b[39;49m\u001b[43murlopen\u001b[49m\u001b[43m(\u001b[49m\n",
      "\u001b[0;32m    895\u001b[0m \u001b[43m        \u001b[49m\u001b[43mmethod\u001b[49m\u001b[43m,\u001b[49m\n",
      "\u001b[0;32m    896\u001b[0m \u001b[43m        \u001b[49m\u001b[43murl\u001b[49m\u001b[43m,\u001b[49m\n",
      "\u001b[0;32m    897\u001b[0m \u001b[43m        \u001b[49m\u001b[43mbody\u001b[49m\u001b[43m,\u001b[49m\n",
      "\u001b[0;32m    898\u001b[0m \u001b[43m        \u001b[49m\u001b[43mheaders\u001b[49m\u001b[43m,\u001b[49m\n",
      "\u001b[0;32m    899\u001b[0m \u001b[43m        \u001b[49m\u001b[43mretries\u001b[49m\u001b[38;5;241;43m=\u001b[39;49m\u001b[43mretries\u001b[49m\u001b[43m,\u001b[49m\n",
      "\u001b[0;32m    900\u001b[0m \u001b[43m        \u001b[49m\u001b[43mredirect\u001b[49m\u001b[38;5;241;43m=\u001b[39;49m\u001b[43mredirect\u001b[49m\u001b[43m,\u001b[49m\n",
      "\u001b[0;32m    901\u001b[0m \u001b[43m        \u001b[49m\u001b[43massert_same_host\u001b[49m\u001b[38;5;241;43m=\u001b[39;49m\u001b[43massert_same_host\u001b[49m\u001b[43m,\u001b[49m\n",
      "\u001b[0;32m    902\u001b[0m \u001b[43m        \u001b[49m\u001b[43mtimeout\u001b[49m\u001b[38;5;241;43m=\u001b[39;49m\u001b[43mtimeout\u001b[49m\u001b[43m,\u001b[49m\n",
      "\u001b[0;32m    903\u001b[0m \u001b[43m        \u001b[49m\u001b[43mpool_timeout\u001b[49m\u001b[38;5;241;43m=\u001b[39;49m\u001b[43mpool_timeout\u001b[49m\u001b[43m,\u001b[49m\n",
      "\u001b[0;32m    904\u001b[0m \u001b[43m        \u001b[49m\u001b[43mrelease_conn\u001b[49m\u001b[38;5;241;43m=\u001b[39;49m\u001b[43mrelease_conn\u001b[49m\u001b[43m,\u001b[49m\n",
      "\u001b[0;32m    905\u001b[0m \u001b[43m        \u001b[49m\u001b[43mchunked\u001b[49m\u001b[38;5;241;43m=\u001b[39;49m\u001b[43mchunked\u001b[49m\u001b[43m,\u001b[49m\n",
      "\u001b[0;32m    906\u001b[0m \u001b[43m        \u001b[49m\u001b[43mbody_pos\u001b[49m\u001b[38;5;241;43m=\u001b[39;49m\u001b[43mbody_pos\u001b[49m\u001b[43m,\u001b[49m\n",
      "\u001b[0;32m    907\u001b[0m \u001b[43m        \u001b[49m\u001b[38;5;241;43m*\u001b[39;49m\u001b[38;5;241;43m*\u001b[39;49m\u001b[43mresponse_kw\u001b[49m\n",
      "\u001b[0;32m    908\u001b[0m \u001b[43m    \u001b[49m\u001b[43m)\u001b[49m\n",
      "\u001b[0;32m    910\u001b[0m \u001b[38;5;28;01mreturn\u001b[39;00m response\n",
      "\n",
      "File \u001b[1;32mc:\\Python311\\Lib\\site-packages\\urllib3\\connectionpool.py:894\u001b[0m, in \u001b[0;36mHTTPConnectionPool.urlopen\u001b[1;34m(self, method, url, body, headers, retries, redirect, assert_same_host, timeout, pool_timeout, release_conn, chunked, body_pos, **response_kw)\u001b[0m\n",
      "\u001b[0;32m    893\u001b[0m     log\u001b[38;5;241m.\u001b[39mdebug(\u001b[38;5;124m\"\u001b[39m\u001b[38;5;124mRetry: \u001b[39m\u001b[38;5;132;01m%s\u001b[39;00m\u001b[38;5;124m\"\u001b[39m, url)\n",
      "\u001b[1;32m--> 894\u001b[0m     \u001b[38;5;28;01mreturn\u001b[39;00m \u001b[38;5;28;43mself\u001b[39;49m\u001b[38;5;241;43m.\u001b[39;49m\u001b[43murlopen\u001b[49m\u001b[43m(\u001b[49m\n",
      "\u001b[0;32m    895\u001b[0m \u001b[43m        \u001b[49m\u001b[43mmethod\u001b[49m\u001b[43m,\u001b[49m\n",
      "\u001b[0;32m    896\u001b[0m \u001b[43m        \u001b[49m\u001b[43murl\u001b[49m\u001b[43m,\u001b[49m\n",
      "\u001b[0;32m    897\u001b[0m \u001b[43m        \u001b[49m\u001b[43mbody\u001b[49m\u001b[43m,\u001b[49m\n",
      "\u001b[0;32m    898\u001b[0m \u001b[43m        \u001b[49m\u001b[43mheaders\u001b[49m\u001b[43m,\u001b[49m\n",
      "\u001b[0;32m    899\u001b[0m \u001b[43m        \u001b[49m\u001b[43mretries\u001b[49m\u001b[38;5;241;43m=\u001b[39;49m\u001b[43mretries\u001b[49m\u001b[43m,\u001b[49m\n",
      "\u001b[0;32m    900\u001b[0m \u001b[43m        \u001b[49m\u001b[43mredirect\u001b[49m\u001b[38;5;241;43m=\u001b[39;49m\u001b[43mredirect\u001b[49m\u001b[43m,\u001b[49m\n",
      "\u001b[0;32m    901\u001b[0m \u001b[43m        \u001b[49m\u001b[43massert_same_host\u001b[49m\u001b[38;5;241;43m=\u001b[39;49m\u001b[43massert_same_host\u001b[49m\u001b[43m,\u001b[49m\n",
      "\u001b[0;32m    902\u001b[0m \u001b[43m        \u001b[49m\u001b[43mtimeout\u001b[49m\u001b[38;5;241;43m=\u001b[39;49m\u001b[43mtimeout\u001b[49m\u001b[43m,\u001b[49m\n",
      "\u001b[0;32m    903\u001b[0m \u001b[43m        \u001b[49m\u001b[43mpool_timeout\u001b[49m\u001b[38;5;241;43m=\u001b[39;49m\u001b[43mpool_timeout\u001b[49m\u001b[43m,\u001b[49m\n",
      "\u001b[0;32m    904\u001b[0m \u001b[43m        \u001b[49m\u001b[43mrelease_conn\u001b[49m\u001b[38;5;241;43m=\u001b[39;49m\u001b[43mrelease_conn\u001b[49m\u001b[43m,\u001b[49m\n",
      "\u001b[0;32m    905\u001b[0m \u001b[43m        \u001b[49m\u001b[43mchunked\u001b[49m\u001b[38;5;241;43m=\u001b[39;49m\u001b[43mchunked\u001b[49m\u001b[43m,\u001b[49m\n",
      "\u001b[0;32m    906\u001b[0m \u001b[43m        \u001b[49m\u001b[43mbody_pos\u001b[49m\u001b[38;5;241;43m=\u001b[39;49m\u001b[43mbody_pos\u001b[49m\u001b[43m,\u001b[49m\n",
      "\u001b[0;32m    907\u001b[0m \u001b[43m        \u001b[49m\u001b[38;5;241;43m*\u001b[39;49m\u001b[38;5;241;43m*\u001b[39;49m\u001b[43mresponse_kw\u001b[49m\n",
      "\u001b[0;32m    908\u001b[0m \u001b[43m    \u001b[49m\u001b[43m)\u001b[49m\n",
      "\u001b[0;32m    910\u001b[0m \u001b[38;5;28;01mreturn\u001b[39;00m response\n",
      "\n",
      "File \u001b[1;32mc:\\Python311\\Lib\\site-packages\\urllib3\\connectionpool.py:894\u001b[0m, in \u001b[0;36mHTTPConnectionPool.urlopen\u001b[1;34m(self, method, url, body, headers, retries, redirect, assert_same_host, timeout, pool_timeout, release_conn, chunked, body_pos, **response_kw)\u001b[0m\n",
      "\u001b[0;32m    893\u001b[0m     log\u001b[38;5;241m.\u001b[39mdebug(\u001b[38;5;124m\"\u001b[39m\u001b[38;5;124mRetry: \u001b[39m\u001b[38;5;132;01m%s\u001b[39;00m\u001b[38;5;124m\"\u001b[39m, url)\n",
      "\u001b[1;32m--> 894\u001b[0m     \u001b[38;5;28;01mreturn\u001b[39;00m \u001b[38;5;28;43mself\u001b[39;49m\u001b[38;5;241;43m.\u001b[39;49m\u001b[43murlopen\u001b[49m\u001b[43m(\u001b[49m\n",
      "\u001b[0;32m    895\u001b[0m \u001b[43m        \u001b[49m\u001b[43mmethod\u001b[49m\u001b[43m,\u001b[49m\n",
      "\u001b[0;32m    896\u001b[0m \u001b[43m        \u001b[49m\u001b[43murl\u001b[49m\u001b[43m,\u001b[49m\n",
      "\u001b[0;32m    897\u001b[0m \u001b[43m        \u001b[49m\u001b[43mbody\u001b[49m\u001b[43m,\u001b[49m\n",
      "\u001b[0;32m    898\u001b[0m \u001b[43m        \u001b[49m\u001b[43mheaders\u001b[49m\u001b[43m,\u001b[49m\n",
      "\u001b[0;32m    899\u001b[0m \u001b[43m        \u001b[49m\u001b[43mretries\u001b[49m\u001b[38;5;241;43m=\u001b[39;49m\u001b[43mretries\u001b[49m\u001b[43m,\u001b[49m\n",
      "\u001b[0;32m    900\u001b[0m \u001b[43m        \u001b[49m\u001b[43mredirect\u001b[49m\u001b[38;5;241;43m=\u001b[39;49m\u001b[43mredirect\u001b[49m\u001b[43m,\u001b[49m\n",
      "\u001b[0;32m    901\u001b[0m \u001b[43m        \u001b[49m\u001b[43massert_same_host\u001b[49m\u001b[38;5;241;43m=\u001b[39;49m\u001b[43massert_same_host\u001b[49m\u001b[43m,\u001b[49m\n",
      "\u001b[0;32m    902\u001b[0m \u001b[43m        \u001b[49m\u001b[43mtimeout\u001b[49m\u001b[38;5;241;43m=\u001b[39;49m\u001b[43mtimeout\u001b[49m\u001b[43m,\u001b[49m\n",
      "\u001b[0;32m    903\u001b[0m \u001b[43m        \u001b[49m\u001b[43mpool_timeout\u001b[49m\u001b[38;5;241;43m=\u001b[39;49m\u001b[43mpool_timeout\u001b[49m\u001b[43m,\u001b[49m\n",
      "\u001b[0;32m    904\u001b[0m \u001b[43m        \u001b[49m\u001b[43mrelease_conn\u001b[49m\u001b[38;5;241;43m=\u001b[39;49m\u001b[43mrelease_conn\u001b[49m\u001b[43m,\u001b[49m\n",
      "\u001b[0;32m    905\u001b[0m \u001b[43m        \u001b[49m\u001b[43mchunked\u001b[49m\u001b[38;5;241;43m=\u001b[39;49m\u001b[43mchunked\u001b[49m\u001b[43m,\u001b[49m\n",
      "\u001b[0;32m    906\u001b[0m \u001b[43m        \u001b[49m\u001b[43mbody_pos\u001b[49m\u001b[38;5;241;43m=\u001b[39;49m\u001b[43mbody_pos\u001b[49m\u001b[43m,\u001b[49m\n",
      "\u001b[0;32m    907\u001b[0m \u001b[43m        \u001b[49m\u001b[38;5;241;43m*\u001b[39;49m\u001b[38;5;241;43m*\u001b[39;49m\u001b[43mresponse_kw\u001b[49m\n",
      "\u001b[0;32m    908\u001b[0m \u001b[43m    \u001b[49m\u001b[43m)\u001b[49m\n",
      "\u001b[0;32m    910\u001b[0m \u001b[38;5;28;01mreturn\u001b[39;00m response\n",
      "\n",
      "File \u001b[1;32mc:\\Python311\\Lib\\site-packages\\urllib3\\connectionpool.py:884\u001b[0m, in \u001b[0;36mHTTPConnectionPool.urlopen\u001b[1;34m(self, method, url, body, headers, retries, redirect, assert_same_host, timeout, pool_timeout, release_conn, chunked, body_pos, **response_kw)\u001b[0m\n",
      "\u001b[0;32m    883\u001b[0m \u001b[38;5;28;01mtry\u001b[39;00m:\n",
      "\u001b[1;32m--> 884\u001b[0m     retries \u001b[38;5;241m=\u001b[39m \u001b[43mretries\u001b[49m\u001b[38;5;241;43m.\u001b[39;49m\u001b[43mincrement\u001b[49m\u001b[43m(\u001b[49m\u001b[43mmethod\u001b[49m\u001b[43m,\u001b[49m\u001b[43m \u001b[49m\u001b[43murl\u001b[49m\u001b[43m,\u001b[49m\u001b[43m \u001b[49m\u001b[43mresponse\u001b[49m\u001b[38;5;241;43m=\u001b[39;49m\u001b[43mresponse\u001b[49m\u001b[43m,\u001b[49m\u001b[43m \u001b[49m\u001b[43m_pool\u001b[49m\u001b[38;5;241;43m=\u001b[39;49m\u001b[38;5;28;43mself\u001b[39;49m\u001b[43m)\u001b[49m\n",
      "\u001b[0;32m    885\u001b[0m \u001b[38;5;28;01mexcept\u001b[39;00m MaxRetryError:\n",
      "\n",
      "File \u001b[1;32mc:\\Python311\\Lib\\site-packages\\urllib3\\util\\retry.py:592\u001b[0m, in \u001b[0;36mRetry.increment\u001b[1;34m(self, method, url, response, error, _pool, _stacktrace)\u001b[0m\n",
      "\u001b[0;32m    591\u001b[0m \u001b[38;5;28;01mif\u001b[39;00m new_retry\u001b[38;5;241m.\u001b[39mis_exhausted():\n",
      "\u001b[1;32m--> 592\u001b[0m     \u001b[38;5;28;01mraise\u001b[39;00m MaxRetryError(_pool, url, error \u001b[38;5;129;01mor\u001b[39;00m ResponseError(cause))\n",
      "\u001b[0;32m    594\u001b[0m log\u001b[38;5;241m.\u001b[39mdebug(\u001b[38;5;124m\"\u001b[39m\u001b[38;5;124mIncremented Retry for (url=\u001b[39m\u001b[38;5;124m'\u001b[39m\u001b[38;5;132;01m%s\u001b[39;00m\u001b[38;5;124m'\u001b[39m\u001b[38;5;124m): \u001b[39m\u001b[38;5;132;01m%r\u001b[39;00m\u001b[38;5;124m\"\u001b[39m, url, new_retry)\n",
      "\n",
      "\u001b[1;31mMaxRetryError\u001b[0m: HTTPSConnectionPool(host='api.spotify.com', port=443): Max retries exceeded with url: /v1/audio-features/?ids=7vRKhzVt2UClZwCZpzgqR2,64U5Sak3i2QvCGq8zD8KuO,5UGkfqpxDdOVEeenNWSpZu,0D4Y8SLGmBeQPBGMDUvz3v,582FbgxBZT5enmMazXcjek,5ix67Z9s5NkVqw4bh8frev,0MUkVPvPoDZHwd9ngXVN3q,29KQFKKGg7LtmRSX3uvWF7,1BahwDp8VpzUCVFFMCmnu0,4MI8me73stv5tE2C95gA7i,1dI3ggdJEW7oL6pEe6RhwS,2VUKwQ5wovKeCLf0gQUttH,6u34bB6XweoIFTtBOEvoZr,4OvyPDB61RMH0jMfs2tneC,7F1HMamEZk1JOjNjQAZDTF,1wnDOr0vkblJRTktAwrcMm,7msn6OoGXrNOaBGvIH1eqT,5Lw5PvUcIfcanE6YDoSp1H,34eNl4weLDSi2xruoToeP0,7LEbRfOPOuGpZXlH53di52,71I84KMfgEIrsgvwKDCpuq,4MLcEtst9nVjEYbHKWhFog,0PAf4n8jN2Jo6QXcqirRVq,6nEaODX1qMzLw1lUnfJla5,2sN8lxqwd9tOkzGc8vLt9h,4OPBHAEp0mJHXt16I74qRz,0uDxsPAVs2Hu6OQ7XlUWo2,1txXxYN8J9urMS9daq4Rip,0P0jvr0UJYTkUygT9fPmyo,6hRqXzNO8Vo2Lxf9XxGSuI,4cKNAfFzbY6HCvU4dGwKvJ,6KsMC4OmbMUg9GB7VormLF,5c6IQ5eRVgSrV0IOalXUT5,1ZxezeU8L4J46nslWXQlpf,4NfwBgmzmzx8WpyIy9C6p7,3tUamcC8F9eEJ4TdOGUg3H,5zlFGgHDVKWPuX9Mf5m58N,4qPE5jzs1zyqUaw4MDACUk,3JSOEqzz0xW2CM9q9GxmoH,79YFJrZOwaiUqDx3eVmBvX,6jMcnR3U9NDwtziD5fmSYY,6qbaRdGTS1lEV0PKgolUoS,5rV2F21B2y3tqjRfA1bIYd,7LNP6YNYDeMgBeG4JBfAdq,197naMzZXWivRI5LeUC9Ne,0D2EQgV0NQvGkhRTlBHaxr,4ciiC17pHKqJiiPvM5FMbT,0DgEjzl2zd8Fuj9yPjpEfq,52Ei7VWJ3D5d1AYZMXOCMl,76YhDfGQQi7HbtPZOHTblt,6Pb9sJIN2AthFgPtRbp4w5,0edhVtG4635lwrcEpMDuIi,44aKIS9YZ5jPdfYHWkyKLN,5tewIdMVsaJWN19ZnmnPNN,6rg61PBHTfEDvgNt7MNhyU,0NNep3grWO95CVGp04gMM4,47z7ekli6hogevcyUnxUKw,6byGncpFasBdOu9N4SoGdq,0f19yeMTQ5ygqwUhv46tdN,4haq2atpVJmtFu9WFLYu5a,2UvxS1HnysPdQ7tvSnNFJh,7ysNbhVQcujbItqj8ADfOs,7MI5YhSIIqSmmATiDgbCRj,55RU4pIp7xAUeyVUCb4dcY,79Uu7d9rv9W8rwstCRHpX0,4B5bAJUfQlmEVEo3Y785EJ,2qp4MmNvMOOXPMi9AqHji4,7Jd1sVXjO6LITRPp5vKnQ7,4mgrfFMyKHlKJNSgbKmNiz,4kMDk6Vw9GBSWV61xn8xRN,7xQucumOU7b6g353kxyjVt,6SkNKOWJ9FZLsRIpxeBsBO,2rOLungh2qzUYAXACXNmKe,1QTGqC5ZC69gwDlTQsWIlv,4FqIcUdJTZzMMCqDI6kqqj,1XUEAr3mRx6it3XQR3gSFd,5uDpxPV3mCCS1Pgv7Rocvr,18kbYc4l4MCqkHhjdNJzx3,4vdDVYp62dUzv5csocne8B,7k1DDTAtJxVEJiqqw3S5gZ,0yZF78PEIHSDvHglEaSNjH,4pq0mCy82zpzeluVz78LSX,0zl9JGNm3Ob7XyMO0jqRwz,7znVnQ0XYwSVYt5ahnl50R,40OKUUSf3FQNx8Xo9Ahrok,4yCKHiKkMDG6YFTygg1oyA,5HHD1Ozd5NzPOIBwYMplL6,4oy9qiatxPctH4iUkeq4p0,5RbVLwhdUxOjmd4p02HbKv,6M6jVoM0ULQ2P12iQg1BOc,3CVAITBcW4IB0jd0cgRqt9,4cqF4lD4iLJivd7c0VDsn3,23dlxDoEPkbOsU5AFOCT0N,20NdbKJz4O1C1EF5Nf3jVk,7hkNXLTdAg4CuVwczf7Qdu,0w4ATwZClNEQtjWWBQuS2N,0cEBv7oJxFp3bfTFqWFI0R,0yE2Z5wAM7jpGKbrGM5Fmv,5TnbpRzq24KWo3qNtC870O,5buUo4rdV7FylOaoTWwpNx (Caused by ResponseError('too many 429 error responses'))\n",
      "\n",
      "During handling of the above exception, another exception occurred:\n",
      "\n",
      "\u001b[1;31mRetryError\u001b[0m                                Traceback (most recent call last)\n",
      "File \u001b[1;32mc:\\Python311\\Lib\\site-packages\\spotipy\\client.py:266\u001b[0m, in \u001b[0;36mSpotify._internal_call\u001b[1;34m(self, method, url, payload, params)\u001b[0m\n",
      "\u001b[0;32m    265\u001b[0m \u001b[38;5;28;01mtry\u001b[39;00m:\n",
      "\u001b[1;32m--> 266\u001b[0m     response \u001b[38;5;241m=\u001b[39m \u001b[38;5;28;43mself\u001b[39;49m\u001b[38;5;241;43m.\u001b[39;49m\u001b[43m_session\u001b[49m\u001b[38;5;241;43m.\u001b[39;49m\u001b[43mrequest\u001b[49m\u001b[43m(\u001b[49m\n",
      "\u001b[0;32m    267\u001b[0m \u001b[43m        \u001b[49m\u001b[43mmethod\u001b[49m\u001b[43m,\u001b[49m\u001b[43m \u001b[49m\u001b[43murl\u001b[49m\u001b[43m,\u001b[49m\u001b[43m \u001b[49m\u001b[43mheaders\u001b[49m\u001b[38;5;241;43m=\u001b[39;49m\u001b[43mheaders\u001b[49m\u001b[43m,\u001b[49m\u001b[43m \u001b[49m\u001b[43mproxies\u001b[49m\u001b[38;5;241;43m=\u001b[39;49m\u001b[38;5;28;43mself\u001b[39;49m\u001b[38;5;241;43m.\u001b[39;49m\u001b[43mproxies\u001b[49m\u001b[43m,\u001b[49m\n",
      "\u001b[0;32m    268\u001b[0m \u001b[43m        \u001b[49m\u001b[43mtimeout\u001b[49m\u001b[38;5;241;43m=\u001b[39;49m\u001b[38;5;28;43mself\u001b[39;49m\u001b[38;5;241;43m.\u001b[39;49m\u001b[43mrequests_timeout\u001b[49m\u001b[43m,\u001b[49m\u001b[43m \u001b[49m\u001b[38;5;241;43m*\u001b[39;49m\u001b[38;5;241;43m*\u001b[39;49m\u001b[43margs\u001b[49m\n",
      "\u001b[0;32m    269\u001b[0m \u001b[43m    \u001b[49m\u001b[43m)\u001b[49m\n",
      "\u001b[0;32m    271\u001b[0m     response\u001b[38;5;241m.\u001b[39mraise_for_status()\n",
      "\n",
      "File \u001b[1;32mc:\\Python311\\Lib\\site-packages\\requests\\sessions.py:587\u001b[0m, in \u001b[0;36mSession.request\u001b[1;34m(self, method, url, params, data, headers, cookies, files, auth, timeout, allow_redirects, proxies, hooks, stream, verify, cert, json)\u001b[0m\n",
      "\u001b[0;32m    586\u001b[0m send_kwargs\u001b[38;5;241m.\u001b[39mupdate(settings)\n",
      "\u001b[1;32m--> 587\u001b[0m resp \u001b[38;5;241m=\u001b[39m \u001b[38;5;28;43mself\u001b[39;49m\u001b[38;5;241;43m.\u001b[39;49m\u001b[43msend\u001b[49m\u001b[43m(\u001b[49m\u001b[43mprep\u001b[49m\u001b[43m,\u001b[49m\u001b[43m \u001b[49m\u001b[38;5;241;43m*\u001b[39;49m\u001b[38;5;241;43m*\u001b[39;49m\u001b[43msend_kwargs\u001b[49m\u001b[43m)\u001b[49m\n",
      "\u001b[0;32m    589\u001b[0m \u001b[38;5;28;01mreturn\u001b[39;00m resp\n",
      "\n",
      "File \u001b[1;32mc:\\Python311\\Lib\\site-packages\\requests\\sessions.py:701\u001b[0m, in \u001b[0;36mSession.send\u001b[1;34m(self, request, **kwargs)\u001b[0m\n",
      "\u001b[0;32m    700\u001b[0m \u001b[38;5;66;03m# Send the request\u001b[39;00m\n",
      "\u001b[1;32m--> 701\u001b[0m r \u001b[38;5;241m=\u001b[39m \u001b[43madapter\u001b[49m\u001b[38;5;241;43m.\u001b[39;49m\u001b[43msend\u001b[49m\u001b[43m(\u001b[49m\u001b[43mrequest\u001b[49m\u001b[43m,\u001b[49m\u001b[43m \u001b[49m\u001b[38;5;241;43m*\u001b[39;49m\u001b[38;5;241;43m*\u001b[39;49m\u001b[43mkwargs\u001b[49m\u001b[43m)\u001b[49m\n",
      "\u001b[0;32m    703\u001b[0m \u001b[38;5;66;03m# Total elapsed time of the request (approximately)\u001b[39;00m\n",
      "\n",
      "File \u001b[1;32mc:\\Python311\\Lib\\site-packages\\requests\\adapters.py:511\u001b[0m, in \u001b[0;36mHTTPAdapter.send\u001b[1;34m(self, request, stream, timeout, verify, cert, proxies)\u001b[0m\n",
      "\u001b[0;32m    510\u001b[0m \u001b[38;5;28;01mif\u001b[39;00m \u001b[38;5;28misinstance\u001b[39m(e\u001b[38;5;241m.\u001b[39mreason, ResponseError):\n",
      "\u001b[1;32m--> 511\u001b[0m     \u001b[38;5;28;01mraise\u001b[39;00m RetryError(e, request\u001b[38;5;241m=\u001b[39mrequest)\n",
      "\u001b[0;32m    513\u001b[0m \u001b[38;5;28;01mif\u001b[39;00m \u001b[38;5;28misinstance\u001b[39m(e\u001b[38;5;241m.\u001b[39mreason, _ProxyError):\n",
      "\n",
      "\u001b[1;31mRetryError\u001b[0m: HTTPSConnectionPool(host='api.spotify.com', port=443): Max retries exceeded with url: /v1/audio-features/?ids=7vRKhzVt2UClZwCZpzgqR2,64U5Sak3i2QvCGq8zD8KuO,5UGkfqpxDdOVEeenNWSpZu,0D4Y8SLGmBeQPBGMDUvz3v,582FbgxBZT5enmMazXcjek,5ix67Z9s5NkVqw4bh8frev,0MUkVPvPoDZHwd9ngXVN3q,29KQFKKGg7LtmRSX3uvWF7,1BahwDp8VpzUCVFFMCmnu0,4MI8me73stv5tE2C95gA7i,1dI3ggdJEW7oL6pEe6RhwS,2VUKwQ5wovKeCLf0gQUttH,6u34bB6XweoIFTtBOEvoZr,4OvyPDB61RMH0jMfs2tneC,7F1HMamEZk1JOjNjQAZDTF,1wnDOr0vkblJRTktAwrcMm,7msn6OoGXrNOaBGvIH1eqT,5Lw5PvUcIfcanE6YDoSp1H,34eNl4weLDSi2xruoToeP0,7LEbRfOPOuGpZXlH53di52,71I84KMfgEIrsgvwKDCpuq,4MLcEtst9nVjEYbHKWhFog,0PAf4n8jN2Jo6QXcqirRVq,6nEaODX1qMzLw1lUnfJla5,2sN8lxqwd9tOkzGc8vLt9h,4OPBHAEp0mJHXt16I74qRz,0uDxsPAVs2Hu6OQ7XlUWo2,1txXxYN8J9urMS9daq4Rip,0P0jvr0UJYTkUygT9fPmyo,6hRqXzNO8Vo2Lxf9XxGSuI,4cKNAfFzbY6HCvU4dGwKvJ,6KsMC4OmbMUg9GB7VormLF,5c6IQ5eRVgSrV0IOalXUT5,1ZxezeU8L4J46nslWXQlpf,4NfwBgmzmzx8WpyIy9C6p7,3tUamcC8F9eEJ4TdOGUg3H,5zlFGgHDVKWPuX9Mf5m58N,4qPE5jzs1zyqUaw4MDACUk,3JSOEqzz0xW2CM9q9GxmoH,79YFJrZOwaiUqDx3eVmBvX,6jMcnR3U9NDwtziD5fmSYY,6qbaRdGTS1lEV0PKgolUoS,5rV2F21B2y3tqjRfA1bIYd,7LNP6YNYDeMgBeG4JBfAdq,197naMzZXWivRI5LeUC9Ne,0D2EQgV0NQvGkhRTlBHaxr,4ciiC17pHKqJiiPvM5FMbT,0DgEjzl2zd8Fuj9yPjpEfq,52Ei7VWJ3D5d1AYZMXOCMl,76YhDfGQQi7HbtPZOHTblt,6Pb9sJIN2AthFgPtRbp4w5,0edhVtG4635lwrcEpMDuIi,44aKIS9YZ5jPdfYHWkyKLN,5tewIdMVsaJWN19ZnmnPNN,6rg61PBHTfEDvgNt7MNhyU,0NNep3grWO95CVGp04gMM4,47z7ekli6hogevcyUnxUKw,6byGncpFasBdOu9N4SoGdq,0f19yeMTQ5ygqwUhv46tdN,4haq2atpVJmtFu9WFLYu5a,2UvxS1HnysPdQ7tvSnNFJh,7ysNbhVQcujbItqj8ADfOs,7MI5YhSIIqSmmATiDgbCRj,55RU4pIp7xAUeyVUCb4dcY,79Uu7d9rv9W8rwstCRHpX0,4B5bAJUfQlmEVEo3Y785EJ,2qp4MmNvMOOXPMi9AqHji4,7Jd1sVXjO6LITRPp5vKnQ7,4mgrfFMyKHlKJNSgbKmNiz,4kMDk6Vw9GBSWV61xn8xRN,7xQucumOU7b6g353kxyjVt,6SkNKOWJ9FZLsRIpxeBsBO,2rOLungh2qzUYAXACXNmKe,1QTGqC5ZC69gwDlTQsWIlv,4FqIcUdJTZzMMCqDI6kqqj,1XUEAr3mRx6it3XQR3gSFd,5uDpxPV3mCCS1Pgv7Rocvr,18kbYc4l4MCqkHhjdNJzx3,4vdDVYp62dUzv5csocne8B,7k1DDTAtJxVEJiqqw3S5gZ,0yZF78PEIHSDvHglEaSNjH,4pq0mCy82zpzeluVz78LSX,0zl9JGNm3Ob7XyMO0jqRwz,7znVnQ0XYwSVYt5ahnl50R,40OKUUSf3FQNx8Xo9Ahrok,4yCKHiKkMDG6YFTygg1oyA,5HHD1Ozd5NzPOIBwYMplL6,4oy9qiatxPctH4iUkeq4p0,5RbVLwhdUxOjmd4p02HbKv,6M6jVoM0ULQ2P12iQg1BOc,3CVAITBcW4IB0jd0cgRqt9,4cqF4lD4iLJivd7c0VDsn3,23dlxDoEPkbOsU5AFOCT0N,20NdbKJz4O1C1EF5Nf3jVk,7hkNXLTdAg4CuVwczf7Qdu,0w4ATwZClNEQtjWWBQuS2N,0cEBv7oJxFp3bfTFqWFI0R,0yE2Z5wAM7jpGKbrGM5Fmv,5TnbpRzq24KWo3qNtC870O,5buUo4rdV7FylOaoTWwpNx (Caused by ResponseError('too many 429 error responses'))\n",
      "\n",
      "During handling of the above exception, another exception occurred:\n",
      "\n",
      "\u001b[1;31mSpotifyException\u001b[0m                          Traceback (most recent call last)\n",
      "Cell \u001b[1;32mIn[14], line 5\u001b[0m\n",
      "\u001b[0;32m      4\u001b[0m \u001b[38;5;28;01mtry\u001b[39;00m:\n",
      "\u001b[1;32m----> 5\u001b[0m  track_feature \u001b[38;5;241m=\u001b[39m \u001b[43msp\u001b[49m\u001b[38;5;241;43m.\u001b[39;49m\u001b[43maudio_features\u001b[49m\u001b[43m(\u001b[49m\u001b[43mt_uri\u001b[49m\u001b[43m[\u001b[49m\u001b[43mi\u001b[49m\u001b[43m:\u001b[49m\u001b[43mi\u001b[49m\u001b[38;5;241;43m+\u001b[39;49m\u001b[38;5;241;43m100\u001b[39;49m\u001b[43m]\u001b[49m\u001b[43m)\u001b[49m\n",
      "\u001b[0;32m      6\u001b[0m  track_df \u001b[38;5;241m=\u001b[39m pd\u001b[38;5;241m.\u001b[39mDataFrame(track_feature)\n",
      "\n",
      "File \u001b[1;32mc:\\Python311\\Lib\\site-packages\\spotipy\\client.py:1737\u001b[0m, in \u001b[0;36mSpotify.audio_features\u001b[1;34m(self, tracks)\u001b[0m\n",
      "\u001b[0;32m   1736\u001b[0m     tlist \u001b[38;5;241m=\u001b[39m [\u001b[38;5;28mself\u001b[39m\u001b[38;5;241m.\u001b[39m_get_id(\u001b[38;5;124m\"\u001b[39m\u001b[38;5;124mtrack\u001b[39m\u001b[38;5;124m\"\u001b[39m, t) \u001b[38;5;28;01mfor\u001b[39;00m t \u001b[38;5;129;01min\u001b[39;00m tracks]\n",
      "\u001b[1;32m-> 1737\u001b[0m     results \u001b[38;5;241m=\u001b[39m \u001b[38;5;28;43mself\u001b[39;49m\u001b[38;5;241;43m.\u001b[39;49m\u001b[43m_get\u001b[49m\u001b[43m(\u001b[49m\u001b[38;5;124;43m\"\u001b[39;49m\u001b[38;5;124;43maudio-features/?ids=\u001b[39;49m\u001b[38;5;124;43m\"\u001b[39;49m\u001b[43m \u001b[49m\u001b[38;5;241;43m+\u001b[39;49m\u001b[43m \u001b[49m\u001b[38;5;124;43m\"\u001b[39;49m\u001b[38;5;124;43m,\u001b[39;49m\u001b[38;5;124;43m\"\u001b[39;49m\u001b[38;5;241;43m.\u001b[39;49m\u001b[43mjoin\u001b[49m\u001b[43m(\u001b[49m\u001b[43mtlist\u001b[49m\u001b[43m)\u001b[49m\u001b[43m)\u001b[49m\n",
      "\u001b[0;32m   1738\u001b[0m \u001b[38;5;66;03m# the response has changed, look for the new style first, and if\u001b[39;00m\n",
      "\u001b[0;32m   1739\u001b[0m \u001b[38;5;66;03m# its not there, fallback on the old style\u001b[39;00m\n",
      "\n",
      "File \u001b[1;32mc:\\Python311\\Lib\\site-packages\\spotipy\\client.py:323\u001b[0m, in \u001b[0;36mSpotify._get\u001b[1;34m(self, url, args, payload, **kwargs)\u001b[0m\n",
      "\u001b[0;32m    321\u001b[0m     kwargs\u001b[38;5;241m.\u001b[39mupdate(args)\n",
      "\u001b[1;32m--> 323\u001b[0m \u001b[38;5;28;01mreturn\u001b[39;00m \u001b[38;5;28;43mself\u001b[39;49m\u001b[38;5;241;43m.\u001b[39;49m\u001b[43m_internal_call\u001b[49m\u001b[43m(\u001b[49m\u001b[38;5;124;43m\"\u001b[39;49m\u001b[38;5;124;43mGET\u001b[39;49m\u001b[38;5;124;43m\"\u001b[39;49m\u001b[43m,\u001b[49m\u001b[43m \u001b[49m\u001b[43murl\u001b[49m\u001b[43m,\u001b[49m\u001b[43m \u001b[49m\u001b[43mpayload\u001b[49m\u001b[43m,\u001b[49m\u001b[43m \u001b[49m\u001b[43mkwargs\u001b[49m\u001b[43m)\u001b[49m\n",
      "\n",
      "File \u001b[1;32mc:\\Python311\\Lib\\site-packages\\spotipy\\client.py:307\u001b[0m, in \u001b[0;36mSpotify._internal_call\u001b[1;34m(self, method, url, payload, params)\u001b[0m\n",
      "\u001b[0;32m    306\u001b[0m         reason \u001b[38;5;241m=\u001b[39m \u001b[38;5;28;01mNone\u001b[39;00m\n",
      "\u001b[1;32m--> 307\u001b[0m     \u001b[38;5;28;01mraise\u001b[39;00m SpotifyException(\n",
      "\u001b[0;32m    308\u001b[0m         \u001b[38;5;241m429\u001b[39m,\n",
      "\u001b[0;32m    309\u001b[0m         \u001b[38;5;241m-\u001b[39m\u001b[38;5;241m1\u001b[39m,\n",
      "\u001b[0;32m    310\u001b[0m         \u001b[38;5;124m\"\u001b[39m\u001b[38;5;132;01m%s\u001b[39;00m\u001b[38;5;124m:\u001b[39m\u001b[38;5;130;01m\\n\u001b[39;00m\u001b[38;5;124m \u001b[39m\u001b[38;5;132;01m%s\u001b[39;00m\u001b[38;5;124m\"\u001b[39m \u001b[38;5;241m%\u001b[39m (request\u001b[38;5;241m.\u001b[39mpath_url, \u001b[38;5;124m\"\u001b[39m\u001b[38;5;124mMax Retries\u001b[39m\u001b[38;5;124m\"\u001b[39m),\n",
      "\u001b[0;32m    311\u001b[0m         reason\u001b[38;5;241m=\u001b[39mreason\n",
      "\u001b[0;32m    312\u001b[0m     )\n",
      "\u001b[0;32m    313\u001b[0m \u001b[38;5;28;01mexcept\u001b[39;00m \u001b[38;5;167;01mValueError\u001b[39;00m:\n",
      "\n",
      "\u001b[1;31mSpotifyException\u001b[0m: http status: 429, code:-1 - /v1/audio-features/?ids=7vRKhzVt2UClZwCZpzgqR2,64U5Sak3i2QvCGq8zD8KuO,5UGkfqpxDdOVEeenNWSpZu,0D4Y8SLGmBeQPBGMDUvz3v,582FbgxBZT5enmMazXcjek,5ix67Z9s5NkVqw4bh8frev,0MUkVPvPoDZHwd9ngXVN3q,29KQFKKGg7LtmRSX3uvWF7,1BahwDp8VpzUCVFFMCmnu0,4MI8me73stv5tE2C95gA7i,1dI3ggdJEW7oL6pEe6RhwS,2VUKwQ5wovKeCLf0gQUttH,6u34bB6XweoIFTtBOEvoZr,4OvyPDB61RMH0jMfs2tneC,7F1HMamEZk1JOjNjQAZDTF,1wnDOr0vkblJRTktAwrcMm,7msn6OoGXrNOaBGvIH1eqT,5Lw5PvUcIfcanE6YDoSp1H,34eNl4weLDSi2xruoToeP0,7LEbRfOPOuGpZXlH53di52,71I84KMfgEIrsgvwKDCpuq,4MLcEtst9nVjEYbHKWhFog,0PAf4n8jN2Jo6QXcqirRVq,6nEaODX1qMzLw1lUnfJla5,2sN8lxqwd9tOkzGc8vLt9h,4OPBHAEp0mJHXt16I74qRz,0uDxsPAVs2Hu6OQ7XlUWo2,1txXxYN8J9urMS9daq4Rip,0P0jvr0UJYTkUygT9fPmyo,6hRqXzNO8Vo2Lxf9XxGSuI,4cKNAfFzbY6HCvU4dGwKvJ,6KsMC4OmbMUg9GB7VormLF,5c6IQ5eRVgSrV0IOalXUT5,1ZxezeU8L4J46nslWXQlpf,4NfwBgmzmzx8WpyIy9C6p7,3tUamcC8F9eEJ4TdOGUg3H,5zlFGgHDVKWPuX9Mf5m58N,4qPE5jzs1zyqUaw4MDACUk,3JSOEqzz0xW2CM9q9GxmoH,79YFJrZOwaiUqDx3eVmBvX,6jMcnR3U9NDwtziD5fmSYY,6qbaRdGTS1lEV0PKgolUoS,5rV2F21B2y3tqjRfA1bIYd,7LNP6YNYDeMgBeG4JBfAdq,197naMzZXWivRI5LeUC9Ne,0D2EQgV0NQvGkhRTlBHaxr,4ciiC17pHKqJiiPvM5FMbT,0DgEjzl2zd8Fuj9yPjpEfq,52Ei7VWJ3D5d1AYZMXOCMl,76YhDfGQQi7HbtPZOHTblt,6Pb9sJIN2AthFgPtRbp4w5,0edhVtG4635lwrcEpMDuIi,44aKIS9YZ5jPdfYHWkyKLN,5tewIdMVsaJWN19ZnmnPNN,6rg61PBHTfEDvgNt7MNhyU,0NNep3grWO95CVGp04gMM4,47z7ekli6hogevcyUnxUKw,6byGncpFasBdOu9N4SoGdq,0f19yeMTQ5ygqwUhv46tdN,4haq2atpVJmtFu9WFLYu5a,2UvxS1HnysPdQ7tvSnNFJh,7ysNbhVQcujbItqj8ADfOs,7MI5YhSIIqSmmATiDgbCRj,55RU4pIp7xAUeyVUCb4dcY,79Uu7d9rv9W8rwstCRHpX0,4B5bAJUfQlmEVEo3Y785EJ,2qp4MmNvMOOXPMi9AqHji4,7Jd1sVXjO6LITRPp5vKnQ7,4mgrfFMyKHlKJNSgbKmNiz,4kMDk6Vw9GBSWV61xn8xRN,7xQucumOU7b6g353kxyjVt,6SkNKOWJ9FZLsRIpxeBsBO,2rOLungh2qzUYAXACXNmKe,1QTGqC5ZC69gwDlTQsWIlv,4FqIcUdJTZzMMCqDI6kqqj,1XUEAr3mRx6it3XQR3gSFd,5uDpxPV3mCCS1Pgv7Rocvr,18kbYc4l4MCqkHhjdNJzx3,4vdDVYp62dUzv5csocne8B,7k1DDTAtJxVEJiqqw3S5gZ,0yZF78PEIHSDvHglEaSNjH,4pq0mCy82zpzeluVz78LSX,0zl9JGNm3Ob7XyMO0jqRwz,7znVnQ0XYwSVYt5ahnl50R,40OKUUSf3FQNx8Xo9Ahrok,4yCKHiKkMDG6YFTygg1oyA,5HHD1Ozd5NzPOIBwYMplL6,4oy9qiatxPctH4iUkeq4p0,5RbVLwhdUxOjmd4p02HbKv,6M6jVoM0ULQ2P12iQg1BOc,3CVAITBcW4IB0jd0cgRqt9,4cqF4lD4iLJivd7c0VDsn3,23dlxDoEPkbOsU5AFOCT0N,20NdbKJz4O1C1EF5Nf3jVk,7hkNXLTdAg4CuVwczf7Qdu,0w4ATwZClNEQtjWWBQuS2N,0cEBv7oJxFp3bfTFqWFI0R,0yE2Z5wAM7jpGKbrGM5Fmv,5TnbpRzq24KWo3qNtC870O,5buUo4rdV7FylOaoTWwpNx:\n",
      " Max Retries, reason: too many 429 error responses\n",
      "\n",
      "During handling of the above exception, another exception occurred:\n",
      "\n",
      "\u001b[1;31mKeyboardInterrupt\u001b[0m                         Traceback (most recent call last)\n",
      "Cell \u001b[1;32mIn[14], line 14\u001b[0m\n",
      "\u001b[0;32m     12\u001b[0m         r\u001b[38;5;241m.\u001b[39mwrite(datetime\u001b[38;5;241m.\u001b[39mdatetime\u001b[38;5;241m.\u001b[39mnow()\u001b[38;5;241m.\u001b[39mstrftime(\u001b[38;5;124m\"\u001b[39m\u001b[38;5;132;01m%d\u001b[39;00m\u001b[38;5;124m.\u001b[39m\u001b[38;5;124m%\u001b[39m\u001b[38;5;124mb \u001b[39m\u001b[38;5;124m%\u001b[39m\u001b[38;5;124mY \u001b[39m\u001b[38;5;124m%\u001b[39m\u001b[38;5;124mH:\u001b[39m\u001b[38;5;124m%\u001b[39m\u001b[38;5;124mM:\u001b[39m\u001b[38;5;124m%\u001b[39m\u001b[38;5;124mS\u001b[39m\u001b[38;5;124m\"\u001b[39m)\u001b[38;5;241m+\u001b[39m\u001b[38;5;124m\"\u001b[39m\u001b[38;5;124m: \u001b[39m\u001b[38;5;124m\"\u001b[39m\u001b[38;5;241m+\u001b[39m\u001b[38;5;28mstr\u001b[39m(error)\u001b[38;5;241m+\u001b[39m\u001b[38;5;124m'\u001b[39m\u001b[38;5;130;01m\\n\u001b[39;00m\u001b[38;5;124m'\u001b[39m)\n",
      "\u001b[0;32m     13\u001b[0m         r\u001b[38;5;241m.\u001b[39mclose()\n",
      "\u001b[1;32m---> 14\u001b[0m         time\u001b[38;5;241m.\u001b[39msleep(\u001b[38;5;241m10\u001b[39m)\n",
      "\u001b[0;32m     15\u001b[0m         \u001b[38;5;28;01mcontinue\u001b[39;00m\n",
      "\u001b[0;32m     16\u001b[0m r \u001b[38;5;241m=\u001b[39m \u001b[38;5;28mopen\u001b[39m(\u001b[38;5;124m\"\u001b[39m\u001b[38;5;124maudio_features_log.txt\u001b[39m\u001b[38;5;124m\"\u001b[39m, \u001b[38;5;124m\"\u001b[39m\u001b[38;5;124ma\u001b[39m\u001b[38;5;124m\"\u001b[39m)\n",
      "\n",
      "\u001b[1;31mKeyboardInterrupt\u001b[0m: "
     ]
    }
   ],
   "source": [
    "f = open('data/audio_features.csv','a')\n",
    "e=0\n",
    "for i in tqdm(range(0,len(t_uri),100)):\n",
    "    try:\n",
    "     track_feature = sp.audio_features(t_uri[i:i+100])\n",
    "     track_df = pd.DataFrame(track_feature)\n",
    "     csv_data = track_df.to_csv(header=False,index=False)\n",
    "     f.write(csv_data)\n",
    "    except Exception as error:\n",
    "        e+=1\n",
    "        r = open(\"audio_features_log.txt\", \"a\")\n",
    "        r.write(datetime.datetime.now().strftime(\"%d.%b %Y %H:%M:%S\")+\": \"+str(error)+'\\n')\n",
    "        r.close()\n",
    "        time.sleep(10)\n",
    "        continue\n",
    "r = open(\"audio_features_log.txt\", \"a\")\n",
    "r.write(datetime.datetime.now().strftime(\"%d.%b %Y %H:%M:%S\")+\" _________________________ \"+\"Total Number Of Errors : \"+str(e)+\" _________________________ \"+'\\n')\n",
    "r.close()\n",
    "f.close()"
   ]
  }
 ],
 "metadata": {
  "kernelspec": {
   "display_name": "Python 3.9.13 ('base')",
   "language": "python",
   "name": "python3"
  },
  "language_info": {
   "codemirror_mode": {
    "name": "ipython",
    "version": 3
   },
   "file_extension": ".py",
   "mimetype": "text/x-python",
   "name": "python",
   "nbconvert_exporter": "python",
   "pygments_lexer": "ipython3",
   "version": "3.11.5"
  },
  "orig_nbformat": 4,
  "vscode": {
   "interpreter": {
    "hash": "e246d2215c418239c9316a1ebf2d8abb44dc50b2e5b0e29defd87143398aa387"
   }
  }
 },
 "nbformat": 4,
 "nbformat_minor": 2
}
