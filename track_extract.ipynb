{
 "cells": [
  {
   "cell_type": "markdown",
   "metadata": {},
   "source": [
    "## Importing the libraries"
   ]
  },
  {
   "cell_type": "code",
   "execution_count": 1,
   "metadata": {},
   "outputs": [],
   "source": [
    "import os\n",
    "import pandas as pd\n",
    "import numpy as np\n",
    "import json\n",
    "import spotipy\n",
    "import spotipy.oauth2 as oauth2\n",
    "from spotipy.oauth2 import SpotifyOAuth,SpotifyClientCredentials\n",
    "import re\n",
    "from tqdm import tqdm\n",
    "import multiprocessing as mp\n",
    "import time\n",
    "import random\n",
    "import datetime"
   ]
  },
  {
   "cell_type": "code",
   "execution_count": 2,
   "metadata": {},
   "outputs": [],
   "source": [
    "import os\n",
    "from dotenv import load_dotenv\n",
    "\n",
    "# Load environment variables from .env file\n",
    "load_dotenv(\"../spotify_secrets.env\")\n",
    "auth_manager = SpotifyClientCredentials(client_id=os.getenv('SPOTIPY_CLIENT_ID'),\n",
    "                                        client_secret=os.getenv('SPOTIPY_CLIENT_SECRET'))\n",
    "sp = spotipy.client.Spotify(auth_manager=auth_manager)"
   ]
  },
  {
   "cell_type": "code",
   "execution_count": 3,
   "metadata": {},
   "outputs": [],
   "source": [
    "# Replace 'path_to_csv.csv' with the path to your actual CSV file\n",
    "csv_path = 'V1.csv'\n",
    "\n",
    "# Load the CSV data into a DataFrame\n",
    "df = pd.read_csv(csv_path)"
   ]
  },
  {
   "cell_type": "code",
   "execution_count": 4,
   "metadata": {},
   "outputs": [
    {
     "data": {
      "text/plain": [
       "Index(['track_uri', 'artist_uri', 'album_uri'], dtype='object')"
      ]
     },
     "execution_count": 4,
     "metadata": {},
     "output_type": "execute_result"
    }
   ],
   "source": [
    "df.columns"
   ]
  },
  {
   "cell_type": "code",
   "execution_count": 5,
   "metadata": {},
   "outputs": [],
   "source": [
    "t_uri=df[\"track_uri\"].unique()"
   ]
  },
  {
   "cell_type": "markdown",
   "metadata": {},
   "source": [
    "# Feature extraction"
   ]
  },
  {
   "cell_type": "markdown",
   "metadata": {},
   "source": [
    "Using the Spotify API for Feature Extraction and Saving Results to a CSV File and Errors to a Log File\n",
    "\n",
    "I was using SP.track first, but I realised that it would take a lot of time and I would have to counter a lot of Api rate limits, so I used SP.tracks and SP.artists instead. They accept lists with a 50-URI maximum and handle them in a single request, so it took a lot less time."
   ]
  },
  {
   "cell_type": "code",
   "execution_count": 6,
   "metadata": {},
   "outputs": [],
   "source": [
    "# Function to find the last logged URI in the CSV\n",
    "def find_last_logged_uri(file_path):\n",
    "    try:\n",
    "        df = pd.read_csv(file_path, header=None, encoding='utf-8')  # Adjust based on the actual header presence\n",
    "        last_uri = df.iloc[-1, 0]  # Adjust if URI is in a different column\n",
    "        return last_uri\n",
    "    except Exception as e:\n",
    "        print(f\"Error reading the file: {e}\")\n",
    "        return None"
   ]
  },
  {
   "cell_type": "code",
   "execution_count": 7,
   "metadata": {},
   "outputs": [
    {
     "data": {
      "text/plain": [
       "'3BQY1xO8xwWaIXYFQ9dLQY'"
      ]
     },
     "execution_count": 7,
     "metadata": {},
     "output_type": "execute_result"
    }
   ],
   "source": [
    "last_uri = find_last_logged_uri('data/track_features.csv')\n",
    "last_uri"
   ]
  },
  {
   "cell_type": "code",
   "execution_count": 8,
   "metadata": {},
   "outputs": [
    {
     "data": {
      "text/plain": [
       "217088"
      ]
     },
     "execution_count": 8,
     "metadata": {},
     "output_type": "execute_result"
    }
   ],
   "source": [
    "# Find the last URI and determine the starting index\n",
    "last_uri = find_last_logged_uri('data/track_features.csv')\n",
    "start_index = 0\n",
    "if last_uri and last_uri in t_uri:\n",
    "    index_array = np.where(t_uri == last_uri)[0]\n",
    "    if index_array.size > 0:\n",
    "        start_index = index_array[0] + 1\n",
    "start_index"
   ]
  },
  {
   "cell_type": "code",
   "execution_count": 9,
   "metadata": {},
   "outputs": [
    {
     "data": {
      "text/plain": [
       "'3BQY1xO8xwWaIXYFQ9dLQY'"
      ]
     },
     "execution_count": 9,
     "metadata": {},
     "output_type": "execute_result"
    }
   ],
   "source": [
    "t_uri[start_index-1]"
   ]
  },
  {
   "cell_type": "code",
   "execution_count": 11,
   "metadata": {},
   "outputs": [],
   "source": [
    "#with open('data/track_features.csv', 'w') as file:\n",
    "#    pass"
   ]
  },
  {
   "cell_type": "code",
   "execution_count": 10,
   "metadata": {},
   "outputs": [
    {
     "name": "stderr",
     "output_type": "stream",
     "text": [
      "  0%|          | 0/45246 [00:00<?, ?it/s]"
     ]
    }
   ],
   "source": [
    "# Constants\n",
    "REQUESTS_PER_MINUTE = 180\n",
    "SECONDS_PER_MINUTE = 60\n",
    "DELAY = SECONDS_PER_MINUTE / REQUESTS_PER_MINUTE  # Delay to fit the rate limit\n",
    "BATCH_SIZE = 50  # Fetching 50 tracks at a time\n",
    "\n",
    "# Function to fetch and process tracks\n",
    "def fetch_and_process_tracks(track_uris):\n",
    "    with open('data/track_features.csv', 'a', encoding='utf-8') as f, open('error_log.txt', 'a', encoding='utf-8') as log_file:\n",
    "        for i in tqdm(range(0, len(track_uris), BATCH_SIZE)):\n",
    "            try:\n",
    "                time.sleep(DELAY)  # Delay each request\n",
    "                track_features = sp.tracks(track_uris[i:i + BATCH_SIZE])\n",
    "                track_data_list = []\n",
    "                \n",
    "                for track, uri in zip(track_features['tracks'], track_uris[i:i + BATCH_SIZE]):\n",
    "                    if track:  # Check if track is not None\n",
    "                        artist_names = ', '.join([artist['name'] for artist in track['artists']])\n",
    "                        release_year = track['album']['release_date'].split('-')[0]\n",
    "                        track_data = {\n",
    "                            'track_uri': uri,\n",
    "                            'release_year': release_year,\n",
    "                            'artists': artist_names,\n",
    "                            'explicit': int(track['explicit']),\n",
    "                            'track_name': track['name'],\n",
    "                            'track_popularity': track['popularity']\n",
    "                        }\n",
    "                        track_data_list.append(track_data)\n",
    "\n",
    "                # Create DataFrame from list and write to CSV\n",
    "                if track_data_list:\n",
    "                    df = pd.DataFrame(track_data_list)\n",
    "                    df.to_csv(f, header=False, index=False, mode='a', encoding='utf-8')\n",
    "            except Exception as error:\n",
    "                log_file.write(f\"{datetime.datetime.now().strftime('%d.%b %Y %H:%M:%S')}: {str(error)}\\n\")\n",
    "                time.sleep(3)  # Delay after an exception\n",
    "\n",
    "fetch_and_process_tracks(t_uri)"
   ]
  },
  {
   "cell_type": "code",
   "execution_count": 13,
   "metadata": {},
   "outputs": [
    {
     "name": "stderr",
     "output_type": "stream",
     "text": [
      "  0%|          | 0/42998 [00:00<?, ?it/s]"
     ]
    }
   ],
   "source": [
    "f = open('data/track_features.csv', 'a')\n",
    "e = 0\n",
    "\n",
    "for i in tqdm(range(start_index, len(t_uri), 50)):\n",
    "    try:\n",
    "        time.sleep(DELAY)  # Ensure we respect the rate limit\n",
    "        track_features = sp.tracks(t_uri[i:i+50])\n",
    "        for x in range(50):  # Ensure no index out of range\n",
    "            track_df = pd.DataFrame([t_uri[i+x]])\n",
    "            track_df['release_date'] = track_features['tracks'][x]['album']['release_date']\n",
    "            track_df['pop'] = track_features['tracks'][x][\"popularity\"]\n",
    "            csv_data = track_df.to_csv(header=False, index=False)\n",
    "            f.write(csv_data)\n",
    "    except Exception as error:\n",
    "        e += 1\n",
    "        r = open(\"track_features.txt\", \"a\")\n",
    "        r.write(datetime.datetime.now().strftime(\"%d.%b %Y %H:%M:%S\") + \": \" + str(error) + '\\n')\n",
    "        r.close()\n",
    "        time.sleep(3)\n",
    "        continue\n",
    "\n",
    "# Logging the final count of errors\n",
    "r = open(\"track_features.txt\", \"a\")\n",
    "r.write(datetime.datetime.now().strftime(\"%d.%b %Y %H:%M:%S\") + \" _________________________ \" + \"Total Number Of Errors : \" + str(e) + \" _________________________ \" + '\\n')\n",
    "r.close()\n",
    "\n",
    "# Closing the file\n",
    "f.close()"
   ]
  },
  {
   "cell_type": "code",
   "execution_count": null,
   "metadata": {},
   "outputs": [
    {
     "name": "stderr",
     "output_type": "stream",
     "text": [
      " 10%|▉         | 4318/45246 [52:08<8:55:02,  1.27it/s] "
     ]
    }
   ],
   "source": [
    "import pandas as pd\n",
    "import time\n",
    "import datetime\n",
    "from tqdm import tqdm\n",
    "\n",
    "# Constants\n",
    "REQUESTS_PER_MINUTE = 180\n",
    "SECONDS_PER_MINUTE = 60\n",
    "DELAY = SECONDS_PER_MINUTE / REQUESTS_PER_MINUTE  # Calculate delay to fit the rate limit\n",
    "\n",
    "f = open('data/track_features.csv', 'a')\n",
    "e = 0\n",
    "\n",
    "for i in tqdm(range(0, len(t_uri), 50)):\n",
    "    try:\n",
    "        # Delay each request to ensure we do not exceed the rate limit of 180 requests per minute\n",
    "        time.sleep(DELAY)\n",
    "        \n",
    "        track_features = sp.tracks(t_uri[i:i+50])\n",
    "        for x in range(50):\n",
    "            track_pop = pd.DataFrame([t_uri[i+x]])\n",
    "            track_pop['artists'] = track_features['tracks'][x][]\n",
    "            track_pop['release_date'] = track_features['tracks'][x]['album']['release_date']\n",
    "            track_pop['pop'] = track_features['tracks'][x][\"popularity\"]\n",
    "            csv_data = track_pop.to_csv(header=False, index=False)\n",
    "            f.write(csv_data)\n",
    "    except Exception as error:\n",
    "        e += 1\n",
    "        r = open(\"track_features.txt\", \"a\")\n",
    "        r.write(datetime.datetime.now().strftime(\"%d.%b %Y %H:%M:%S\") + \": \" + str(error) + '\\n')\n",
    "        r.close()\n",
    "        time.sleep(3)\n",
    "        continue\n",
    "\n",
    "# Logging the final count of errors\n",
    "r = open(\"track_features.txt\", \"a\")\n",
    "r.write(datetime.datetime.now().strftime(\"%d.%b %Y %H:%M:%S\") + \" _________________________ \" + \"Total Number Of Errors : \" + str(e) + \" _________________________ \" + '\\n')\n",
    "r.close()\n",
    "\n",
    "# Closing the file\n",
    "f.close()"
   ]
  },
  {
   "cell_type": "code",
   "execution_count": null,
   "metadata": {},
   "outputs": [],
   "source": [
    "f = open('data/track_features.csv','a')\n",
    "e=0\n",
    "for i in tqdm(range(0,len(t_uri),50)):\n",
    "    try:\n",
    "        track_features = sp.tracks(t_uri[i:i+50])\n",
    "        for x in range(50):\n",
    "            track_pop=pd.DataFrame([t_uri[i+x]])\n",
    "            track_pop['release_date']=track_features['tracks'][x]['album']['release_date']\n",
    "            track_pop['pop'] = track_features['tracks'][x][\"popularity\"]\n",
    "            csv_data = track_pop.to_csv(header=False,index=False)\n",
    "            f.write(csv_data)\n",
    "    except Exception as error:\n",
    "        e+=1\n",
    "        r = open(\"track_features.txt\", \"a\")\n",
    "        r.write(datetime.datetime.now().strftime(\"%d.%b %Y %H:%M:%S\")+\": \"+str(error)+'\\n')\n",
    "        r.close()\n",
    "        time.sleep(3)\n",
    "        continue\n",
    "r = open(\"track_features.txt\", \"a\")\n",
    "r.write(datetime.datetime.now().strftime(\"%d.%b %Y %H:%M:%S\")+\" _________________________ \"+\"Total Number Of Errors : \"+str(e)+\" _________________________ \"+'\\n')\n",
    "r.close()\n",
    "f.close()"
   ]
  }
 ],
 "metadata": {
  "kernelspec": {
   "display_name": "Python 3.9.13 ('base')",
   "language": "python",
   "name": "python3"
  },
  "language_info": {
   "codemirror_mode": {
    "name": "ipython",
    "version": 3
   },
   "file_extension": ".py",
   "mimetype": "text/x-python",
   "name": "python",
   "nbconvert_exporter": "python",
   "pygments_lexer": "ipython3",
   "version": "3.11.5"
  },
  "orig_nbformat": 4,
  "vscode": {
   "interpreter": {
    "hash": "e246d2215c418239c9316a1ebf2d8abb44dc50b2e5b0e29defd87143398aa387"
   }
  }
 },
 "nbformat": 4,
 "nbformat_minor": 2
}
