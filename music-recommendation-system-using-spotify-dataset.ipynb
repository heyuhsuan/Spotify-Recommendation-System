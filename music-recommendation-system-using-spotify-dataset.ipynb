{
 "cells": [
  {
   "cell_type": "markdown",
   "metadata": {},
   "source": [
    "# **Import Libraries**"
   ]
  },
  {
   "cell_type": "code",
   "execution_count": 1,
   "metadata": {
    "execution": {
     "iopub.execute_input": "2021-12-17T05:44:20.715330Z",
     "iopub.status.busy": "2021-12-17T05:44:20.714397Z",
     "iopub.status.idle": "2021-12-17T05:44:21.808185Z",
     "shell.execute_reply": "2021-12-17T05:44:21.807394Z",
     "shell.execute_reply.started": "2021-12-17T05:44:20.715276Z"
    }
   },
   "outputs": [],
   "source": [
    "import os\n",
    "import numpy as np\n",
    "import pandas as pd\n",
    "from dotenv import load_dotenv\n",
    "import seaborn as sns\n",
    "import plotly.express as px \n",
    "import matplotlib.pyplot as plt\n",
    "%matplotlib inline\n",
    "\n",
    "from sklearn.cluster import KMeans\n",
    "from sklearn.preprocessing import StandardScaler\n",
    "from sklearn.pipeline import Pipeline\n",
    "from sklearn.manifold import TSNE\n",
    "from sklearn.decomposition import PCA\n",
    "from sklearn.metrics import euclidean_distances\n",
    "from scipy.spatial.distance import cdist\n",
    "\n",
    "import warnings\n",
    "warnings.filterwarnings(\"ignore\")"
   ]
  },
  {
   "cell_type": "markdown",
   "metadata": {},
   "source": [
    "# **Read Data**"
   ]
  },
  {
   "cell_type": "code",
   "execution_count": 2,
   "metadata": {
    "execution": {
     "iopub.execute_input": "2021-12-17T05:44:21.810083Z",
     "iopub.status.busy": "2021-12-17T05:44:21.809689Z",
     "iopub.status.idle": "2021-12-17T05:44:22.522129Z",
     "shell.execute_reply": "2021-12-17T05:44:22.521334Z",
     "shell.execute_reply.started": "2021-12-17T05:44:21.810053Z"
    }
   },
   "outputs": [],
   "source": [
    "data = pd.read_csv(\"data/data.csv\")\n",
    "genre_data = pd.read_csv('data/data_by_genres.csv')\n",
    "year_data = pd.read_csv('data/data_by_year.csv')"
   ]
  },
  {
   "cell_type": "markdown",
   "metadata": {},
   "source": [
    "# **Clustering Genres with K-Means**\n",
    "\n",
    "Here, the simple K-means clustering algorithm is used to divide the genres in this dataset into ten clusters based on the numerical audio features of each genres."
   ]
  },
  {
   "cell_type": "code",
   "execution_count": 3,
   "metadata": {
    "execution": {
     "iopub.execute_input": "2021-12-17T05:44:26.212698Z",
     "iopub.status.busy": "2021-12-17T05:44:26.212124Z",
     "iopub.status.idle": "2021-12-17T05:44:26.518808Z",
     "shell.execute_reply": "2021-12-17T05:44:26.517759Z",
     "shell.execute_reply.started": "2021-12-17T05:44:26.212632Z"
    }
   },
   "outputs": [],
   "source": [
    "from sklearn.cluster import KMeans\n",
    "from sklearn.preprocessing import StandardScaler\n",
    "from sklearn.pipeline import Pipeline\n",
    "\n",
    "cluster_pipeline = Pipeline([('scaler', StandardScaler()), ('kmeans', KMeans(n_clusters=10))])\n",
    "X = genre_data.select_dtypes(np.number)\n",
    "cluster_pipeline.fit(X)\n",
    "genre_data['cluster'] = cluster_pipeline.predict(X)"
   ]
  },
  {
   "cell_type": "markdown",
   "metadata": {},
   "source": [
    "# **Clustering Songs with K-Means**"
   ]
  },
  {
   "cell_type": "code",
   "execution_count": 4,
   "metadata": {
    "_kg_hide-output": true,
    "execution": {
     "iopub.execute_input": "2021-12-17T05:44:43.191246Z",
     "iopub.status.busy": "2021-12-17T05:44:43.190695Z",
     "iopub.status.idle": "2021-12-17T05:44:55.203359Z",
     "shell.execute_reply": "2021-12-17T05:44:55.202178Z",
     "shell.execute_reply.started": "2021-12-17T05:44:43.191203Z"
    }
   },
   "outputs": [],
   "source": [
    "song_cluster_pipeline = Pipeline([('scaler', StandardScaler()), \n",
    "                                  ('kmeans', KMeans(n_clusters=20, \n",
    "                                   verbose=False))\n",
    "                                 ], verbose=False)\n",
    "\n",
    "X = data.select_dtypes(np.number)\n",
    "number_cols = list(X.columns)\n",
    "song_cluster_pipeline.fit(X)\n",
    "song_cluster_labels = song_cluster_pipeline.predict(X)\n",
    "data['cluster_label'] = song_cluster_labels"
   ]
  },
  {
   "cell_type": "markdown",
   "metadata": {},
   "source": [
    "# **Build Recommender System**\n",
    "\n",
    "* Based on the analysis and visualizations, it’s clear that similar genres tend to have data points that are located close to each other while similar types of songs are also clustered together.\n",
    "* This observation makes perfect sense. Similar genres will sound similar and will come from similar time periods while the same can be said for songs within those genres. We can use this idea to build a recommendation system by taking the data points of the songs a user has listened to and recommending songs corresponding to nearby data points.\n",
    "* [Spotipy](https://spotipy.readthedocs.io/en/2.16.1/) is a Python client for the Spotify Web API that makes it easy for developers to fetch data and query Spotify’s catalog for songs. You have to install using `pip install spotipy`\n",
    "* After installing Spotipy, you will need to create an app on the [Spotify Developer’s page](https://developer.spotify.com/) and save your Client ID and secret key."
   ]
  },
  {
   "cell_type": "code",
   "execution_count": 6,
   "metadata": {},
   "outputs": [],
   "source": [
    "# !pip install spotipy"
   ]
  },
  {
   "cell_type": "code",
   "execution_count": 7,
   "metadata": {},
   "outputs": [],
   "source": [
    "import spotipy\n",
    "from spotipy.oauth2 import SpotifyClientCredentials\n",
    "from collections import defaultdict\n",
    "\n",
    "# Load environment variables from .env file\n",
    "load_dotenv()\n",
    "\n",
    "# Retrieve the credentials from environment variables\n",
    "client_id = os.getenv(\"SPOTIPY_CLIENT_ID\")\n",
    "client_secret = os.getenv(\"SPOTIPY_CLIENT_SECRET\")\n",
    "\n",
    "sp = spotipy.Spotify(auth_manager=SpotifyClientCredentials(client_id=client_id,\n",
    "                                                           client_secret=client_secret))\n",
    "\n",
    "def find_song(name, year):\n",
    "    song_data = defaultdict()\n",
    "    results = sp.search(q= 'track: {} year: {}'.format(name,year), limit=1)\n",
    "    if results['tracks']['items'] == []:\n",
    "        return None\n",
    "\n",
    "    results = results['tracks']['items'][0]\n",
    "    track_id = results['id']\n",
    "    audio_features = sp.audio_features(track_id)[0]\n",
    "\n",
    "    song_data['name'] = [name]\n",
    "    song_data['year'] = [year]\n",
    "    song_data['explicit'] = [int(results['explicit'])]\n",
    "    song_data['duration_ms'] = [results['duration_ms']]\n",
    "    song_data['popularity'] = [results['popularity']]\n",
    "\n",
    "    for key, value in audio_features.items():\n",
    "        song_data[key] = value\n",
    "\n",
    "    return pd.DataFrame(song_data)"
   ]
  },
  {
   "cell_type": "code",
   "execution_count": 8,
   "metadata": {},
   "outputs": [],
   "source": [
    "from collections import defaultdict\n",
    "from sklearn.metrics import euclidean_distances\n",
    "from scipy.spatial.distance import cdist\n",
    "import difflib\n",
    "\n",
    "number_cols = ['valence', 'year', 'acousticness', 'danceability', 'duration_ms', 'energy', 'explicit',\n",
    " 'instrumentalness', 'key', 'liveness', 'loudness', 'mode', 'popularity', 'speechiness', 'tempo']\n",
    "\n",
    "\n",
    "def get_song_data(song, spotify_data):\n",
    "    \n",
    "    try:\n",
    "        song_data = spotify_data[(spotify_data['name'] == song['name']) \n",
    "                                & (spotify_data['year'] == song['year'])].iloc[0]\n",
    "        return song_data\n",
    "    \n",
    "    except IndexError:\n",
    "        return find_song(song['name'], song['year'])\n",
    "        \n",
    "\n",
    "import numpy as np\n",
    "\n",
    "def get_mean_vector(song_list, spotify_data):\n",
    "    song_vectors = []\n",
    "    \n",
    "    for song in song_list:\n",
    "        song_data = get_song_data(song, spotify_data)\n",
    "        if song_data is None:\n",
    "            print('Warning: {} does not exist in Spotify or in the database'.format(song['name']))\n",
    "            continue\n",
    "        \n",
    "        # Extract numerical features and ensure consistent order\n",
    "        song_vector = []\n",
    "        for col in number_cols:\n",
    "            if col in song_data and isinstance(song_data[col], (int, float)):\n",
    "                song_vector.append(song_data[col])\n",
    "            else:\n",
    "                # Handle missing feature by appending NaN\n",
    "                song_vector.append(np.nan)\n",
    "        \n",
    "        print(f'Song vector for {song[\"name\"]}: {song_vector}')  # Debug print\n",
    "        song_vectors.append(song_vector)\n",
    "    \n",
    "    # Check if any song vectors were obtained\n",
    "    if not song_vectors:\n",
    "        return None\n",
    "    \n",
    "    song_matrix = np.array(song_vectors)\n",
    "    return np.nanmean(song_matrix, axis=0)\n",
    "\n",
    "\n",
    "\n",
    "\n",
    "def flatten_dict_list(dict_list):\n",
    "    \n",
    "    flattened_dict = defaultdict()\n",
    "    for key in dict_list[0].keys():\n",
    "        flattened_dict[key] = []\n",
    "    \n",
    "    for dictionary in dict_list:\n",
    "        for key, value in dictionary.items():\n",
    "            flattened_dict[key].append(value)\n",
    "            \n",
    "    return flattened_dict\n",
    "\n",
    "\n",
    "def recommend_songs( song_list, spotify_data, n_songs=10):\n",
    "    \n",
    "    metadata_cols = ['name', 'year', 'artists']\n",
    "    song_dict = flatten_dict_list(song_list)\n",
    "    \n",
    "    song_center = get_mean_vector(song_list, spotify_data)\n",
    "    scaler = song_cluster_pipeline.steps[0][1]\n",
    "    scaled_data = scaler.transform(spotify_data[number_cols])\n",
    "    scaled_song_center = scaler.transform(song_center.reshape(1, -1))\n",
    "    distances = cdist(scaled_song_center, scaled_data, 'cosine')\n",
    "    index = list(np.argsort(distances)[:, :n_songs][0])\n",
    "    \n",
    "    rec_songs = spotify_data.iloc[index]\n",
    "    rec_songs = rec_songs[~rec_songs['name'].isin(song_dict['name'])]\n",
    "    return rec_songs[metadata_cols].to_dict(orient='records')"
   ]
  },
  {
   "cell_type": "code",
   "execution_count": 9,
   "metadata": {},
   "outputs": [
    {
     "name": "stdout",
     "output_type": "stream",
     "text": [
      "Song vector for Come As You Are: [0.539, nan, 0.00016, 0.5, nan, 0.8240000000000001, nan, 0.00161, nan, 0.0916, -5.846, nan, nan, 0.0388, 120.125]\n",
      "Song vector for Smells Like Teen Spirit: [0.72, nan, 2.55e-05, 0.502, nan, 0.912, nan, 0.000173, nan, 0.106, -4.556, nan, nan, 0.0564, 116.761]\n",
      "Song vector for Lithium: [0.388, nan, 0.000203, 0.688, nan, 0.599, nan, 0.0, nan, 0.0782, -9.176, nan, nan, 0.038, 123.265]\n",
      "Song vector for All Apologies: [0.359, nan, 0.0793, 0.446, nan, 0.632, nan, 0.000266, nan, 0.0881, -12.197, nan, nan, 0.034, 113.176]\n",
      "Song vector for Stay Away: [nan, nan, nan, nan, nan, nan, nan, nan, nan, nan, nan, nan, nan, nan, nan]\n"
     ]
    },
    {
     "data": {
      "text/plain": [
       "[{'name': 'Piano Concerto No. 3 in D Minor, Op. 30: III. Finale. Alla breve',\n",
       "  'year': 1921,\n",
       "  'artists': \"['Sergei Rachmaninoff', 'James Levine', 'Berliner Philharmoniker']\"},\n",
       " {'name': 'Shipwreck', 'year': 1964, 'artists': \"['Laura Olsher']\"},\n",
       " {'name': \"You Can't Love 'Em All\",\n",
       "  'year': 1964,\n",
       "  'artists': \"['Solomon Burke']\"},\n",
       " {'name': 'Dixie Breakdown - Recorded at the Mecca, Los Angeles',\n",
       "  'year': 1964,\n",
       "  'artists': \"['The Dillards']\"},\n",
       " {'name': 'Charu Theme - Instrumental',\n",
       "  'year': 1964,\n",
       "  'artists': \"['Satyajit Ray']\"},\n",
       " {'name': \"Mama Don't Whip Little Buford\",\n",
       "  'year': 1964,\n",
       "  'artists': \"['Homer & Jethro']\"},\n",
       " {'name': 'Body And Soul', 'year': 1964, 'artists': \"['Freddie Hubbard']\"},\n",
       " {'name': 'I Smiled Yesterday', 'year': 1964, 'artists': \"['Dionne Warwick']\"},\n",
       " {'name': 'Home Boys Home', 'year': 1964, 'artists': \"['The Dubliners']\"},\n",
       " {'name': 'The Warmth of the Sun (Stereo)',\n",
       "  'year': 1964,\n",
       "  'artists': \"['The Beach Boys']\"}]"
      ]
     },
     "execution_count": 9,
     "metadata": {},
     "output_type": "execute_result"
    }
   ],
   "source": [
    "recommend_songs([{'name': 'Come As You Are', 'year':1991},\n",
    "                {'name': 'Smells Like Teen Spirit', 'year': 1991},\n",
    "                {'name': 'Lithium', 'year': 1992},\n",
    "                {'name': 'All Apologies', 'year': 1993},\n",
    "                {'name': 'Stay Away', 'year': 1993}],  data)"
   ]
  },
  {
   "cell_type": "markdown",
   "metadata": {},
   "source": [
    "* This last cell will gives you a recommendation list of songs like this,\n",
    "\n",
    "\n",
    "```\n",
    "[{'name': 'Life is a Highway - From \"Cars\"',\n",
    "  'year': 2009,\n",
    "  'artists': \"['Rascal Flatts']\"},\n",
    " {'name': 'Of Wolf And Man', 'year': 1991, 'artists': \"['Metallica']\"},\n",
    " {'name': 'Somebody Like You', 'year': 2002, 'artists': \"['Keith Urban']\"},\n",
    " {'name': 'Kayleigh', 'year': 1992, 'artists': \"['Marillion']\"},\n",
    " {'name': 'Little Secrets', 'year': 2009, 'artists': \"['Passion Pit']\"},\n",
    " {'name': 'No Excuses', 'year': 1994, 'artists': \"['Alice In Chains']\"},\n",
    " {'name': 'Corazón Mágico', 'year': 1995, 'artists': \"['Los Fugitivos']\"},\n",
    " {'name': 'If Today Was Your Last Day',\n",
    "  'year': 2008,\n",
    "  'artists': \"['Nickelback']\"},\n",
    " {'name': \"Let's Get Rocked\", 'year': 1992, 'artists': \"['Def Leppard']\"},\n",
    " {'name': \"Breakfast At Tiffany's\",\n",
    "  'year': 1995,\n",
    "  'artists': \"['Deep Blue Something']\"}]\n",
    "```\n",
    "\n",
    "\n",
    "\n",
    "* You can change the given songs list as per your choice."
   ]
  },
  {
   "cell_type": "code",
   "execution_count": null,
   "metadata": {},
   "outputs": [],
   "source": []
  }
 ],
 "metadata": {
  "kernelspec": {
   "display_name": "Python 3 (ipykernel)",
   "language": "python",
   "name": "python3"
  },
  "language_info": {
   "codemirror_mode": {
    "name": "ipython",
    "version": 3
   },
   "file_extension": ".py",
   "mimetype": "text/x-python",
   "name": "python",
   "nbconvert_exporter": "python",
   "pygments_lexer": "ipython3",
   "version": "3.11.5"
  }
 },
 "nbformat": 4,
 "nbformat_minor": 4
}
