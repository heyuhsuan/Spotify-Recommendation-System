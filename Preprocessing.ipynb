{
 "cells": [
  {
   "cell_type": "markdown",
   "metadata": {},
   "source": [
    "# Importing the libraries"
   ]
  },
  {
   "cell_type": "code",
   "execution_count": 2,
   "metadata": {},
   "outputs": [],
   "source": [
    "import os\n",
    "import pandas as pd\n",
    "import numpy as np\n",
    "import json\n",
    "import spotipy\n",
    "import spotipy.oauth2 as oauth2\n",
    "from spotipy.oauth2 import SpotifyOAuth,SpotifyClientCredentials\n",
    "import re\n",
    "from tqdm import tqdm\n",
    "import multiprocessing as mp\n",
    "import time\n",
    "import random\n",
    "import datetime\n",
    "\n",
    "from sklearn.feature_extraction.text import TfidfVectorizer\n",
    "from sklearn.metrics.pairwise import cosine_similarity\n",
    "from sklearn.preprocessing import MinMaxScaler\n",
    "import matplotlib.pyplot as plt"
   ]
  },
  {
   "cell_type": "code",
   "execution_count": 3,
   "metadata": {},
   "outputs": [],
   "source": [
    "import os\n",
    "from dotenv import load_dotenv\n",
    "\n",
    "# Load environment variables from .env file\n",
    "load_dotenv(\"../spotify_extraction.env\")\n",
    "SPOTIPY_CLIENT_ID=\"8b2eac77afd84fb5b62584c8f5b273f9\"\n",
    "SPOTIPY_CLIENT_SECRET=\"74146d31ba9e46fd9b4bc8eab9862551\"\n",
    "auth_manager = SpotifyClientCredentials(client_id=SPOTIPY_CLIENT_ID,\n",
    "                                        client_secret=SPOTIPY_CLIENT_SECRET)\n",
    "sp = spotipy.client.Spotify(auth_manager=auth_manager)"
   ]
  },
  {
   "cell_type": "markdown",
   "metadata": {},
   "source": [
    "# Importing the dataset"
   ]
  },
  {
   "cell_type": "code",
   "execution_count": 4,
   "metadata": {},
   "outputs": [],
   "source": [
    "df = pd.read_csv('V1.csv')\n",
    "artist_features=pd.read_csv('data/artist_features.csv', names=['artist_uri', 'artist_pop', 'artist_genres'])\n",
    "audio_features=pd.read_csv('data/audio_features.csv', names=['danceability', 'energy', 'key', 'loudness', 'mode', 'speechiness', 'acousticness', 'instrumentalness', 'liveness', 'valence', 'tempo', 'type', 'id', 'uri', 'track_href', 'analysis_url', 'duration_ms', 'time_signature'])\n",
    "track_features=pd.read_csv('data/track_features.csv', names=['track_uri', 'year', 'artists', 'explicit', 'name', 'track_pop'])"
   ]
  },
  {
   "cell_type": "code",
   "execution_count": 5,
   "metadata": {},
   "outputs": [
    {
     "data": {
      "text/plain": [
       "Index(['track_uri', 'artist_uri', 'album_uri'], dtype='object')"
      ]
     },
     "execution_count": 5,
     "metadata": {},
     "output_type": "execute_result"
    }
   ],
   "source": [
    "df.columns"
   ]
  },
  {
   "cell_type": "code",
   "execution_count": 6,
   "metadata": {},
   "outputs": [
    {
     "data": {
      "text/plain": [
       "Index(['danceability', 'energy', 'key', 'loudness', 'mode', 'speechiness',\n",
       "       'acousticness', 'instrumentalness', 'liveness', 'valence', 'tempo',\n",
       "       'type', 'id', 'uri', 'track_href', 'analysis_url', 'duration_ms',\n",
       "       'time_signature'],\n",
       "      dtype='object')"
      ]
     },
     "execution_count": 6,
     "metadata": {},
     "output_type": "execute_result"
    }
   ],
   "source": [
    "audio_features.columns"
   ]
  },
  {
   "cell_type": "markdown",
   "metadata": {},
   "source": [
    "# Merging all dataframes"
   ]
  },
  {
   "cell_type": "code",
   "execution_count": 7,
   "metadata": {},
   "outputs": [],
   "source": [
    "df = pd.merge(df,audio_features, left_on = \"track_uri\", right_on= \"id\",how = 'outer')"
   ]
  },
  {
   "cell_type": "code",
   "execution_count": 8,
   "metadata": {},
   "outputs": [],
   "source": [
    "df = pd.merge(df,track_features, left_on = \"track_uri\", right_on= \"track_uri\",how = 'outer')"
   ]
  },
  {
   "cell_type": "code",
   "execution_count": 9,
   "metadata": {},
   "outputs": [],
   "source": [
    "df = pd.merge(df,artist_features, left_on = \"artist_uri\", right_on= \"artist_uri\",how = 'outer')"
   ]
  },
  {
   "cell_type": "markdown",
   "metadata": {},
   "source": [
    "# Handling missing data "
   ]
  },
  {
   "cell_type": "code",
   "execution_count": 10,
   "metadata": {},
   "outputs": [
    {
     "data": {
      "text/plain": [
       "track_uri                 0\n",
       "artist_uri                0\n",
       "album_uri                 0\n",
       "danceability        3057548\n",
       "energy              3057548\n",
       "key                 3057548\n",
       "loudness            3057548\n",
       "mode                3057548\n",
       "speechiness         3057548\n",
       "acousticness        3057548\n",
       "instrumentalness    3057548\n",
       "liveness            3057548\n",
       "valence             3057548\n",
       "tempo               3057548\n",
       "type                3057548\n",
       "id                  3057548\n",
       "uri                 3057548\n",
       "track_href          3057548\n",
       "analysis_url        3057548\n",
       "duration_ms         3057548\n",
       "time_signature      3057548\n",
       "year                3070081\n",
       "artists             3070615\n",
       "explicit            3070081\n",
       "name                3070635\n",
       "track_pop           3070081\n",
       "artist_pop           442640\n",
       "artist_genres        442640\n",
       "dtype: int64"
      ]
     },
     "execution_count": 10,
     "metadata": {},
     "output_type": "execute_result"
    }
   ],
   "source": [
    "df.isna().sum()"
   ]
  },
  {
   "cell_type": "markdown",
   "metadata": {},
   "source": [
    "## Handling audio_features missing From extraction"
   ]
  },
  {
   "cell_type": "code",
   "execution_count": 11,
   "metadata": {},
   "outputs": [],
   "source": [
    "df = df.dropna()"
   ]
  },
  {
   "cell_type": "code",
   "execution_count": 12,
   "metadata": {},
   "outputs": [
    {
     "data": {
      "text/plain": [
       "Index(['track_uri', 'artist_uri', 'album_uri', 'danceability', 'energy', 'key',\n",
       "       'loudness', 'mode', 'speechiness', 'acousticness', 'instrumentalness',\n",
       "       'liveness', 'valence', 'tempo', 'type', 'id', 'uri', 'track_href',\n",
       "       'analysis_url', 'duration_ms', 'time_signature', 'year', 'artists',\n",
       "       'explicit', 'name', 'track_pop', 'artist_pop', 'artist_genres'],\n",
       "      dtype='object')"
      ]
     },
     "execution_count": 12,
     "metadata": {},
     "output_type": "execute_result"
    }
   ],
   "source": [
    "df.columns"
   ]
  },
  {
   "cell_type": "code",
   "execution_count": 13,
   "metadata": {},
   "outputs": [
    {
     "data": {
      "text/html": [
       "<div>\n",
       "<style scoped>\n",
       "    .dataframe tbody tr th:only-of-type {\n",
       "        vertical-align: middle;\n",
       "    }\n",
       "\n",
       "    .dataframe tbody tr th {\n",
       "        vertical-align: top;\n",
       "    }\n",
       "\n",
       "    .dataframe thead th {\n",
       "        text-align: right;\n",
       "    }\n",
       "</style>\n",
       "<table border=\"1\" class=\"dataframe\">\n",
       "  <thead>\n",
       "    <tr style=\"text-align: right;\">\n",
       "      <th></th>\n",
       "      <th>track_uri</th>\n",
       "      <th>artist_uri</th>\n",
       "      <th>album_uri</th>\n",
       "      <th>danceability</th>\n",
       "      <th>energy</th>\n",
       "      <th>key</th>\n",
       "      <th>loudness</th>\n",
       "      <th>mode</th>\n",
       "      <th>speechiness</th>\n",
       "      <th>acousticness</th>\n",
       "      <th>...</th>\n",
       "      <th>analysis_url</th>\n",
       "      <th>duration_ms</th>\n",
       "      <th>time_signature</th>\n",
       "      <th>year</th>\n",
       "      <th>artists</th>\n",
       "      <th>explicit</th>\n",
       "      <th>name</th>\n",
       "      <th>track_pop</th>\n",
       "      <th>artist_pop</th>\n",
       "      <th>artist_genres</th>\n",
       "    </tr>\n",
       "  </thead>\n",
       "  <tbody>\n",
       "    <tr>\n",
       "      <th>54</th>\n",
       "      <td>1FtIVI4TDaPNJlIoJrHKBA</td>\n",
       "      <td>001aJOc7CSQVo3XzoLG4DK</td>\n",
       "      <td>0mxxWnON99ABmmeQdqX8Ds</td>\n",
       "      <td>0.751</td>\n",
       "      <td>0.288</td>\n",
       "      <td>6.0</td>\n",
       "      <td>-17.018</td>\n",
       "      <td>1.0</td>\n",
       "      <td>0.0304</td>\n",
       "      <td>0.324</td>\n",
       "      <td>...</td>\n",
       "      <td>https://api.spotify.com/v1/audio-analysis/1FtI...</td>\n",
       "      <td>327200.0</td>\n",
       "      <td>4.0</td>\n",
       "      <td>1989.0</td>\n",
       "      <td>One Way</td>\n",
       "      <td>0.0</td>\n",
       "      <td>Lady You Are</td>\n",
       "      <td>26.0</td>\n",
       "      <td>44.0</td>\n",
       "      <td>classic_soul disco funk new_jack_swing p_funk ...</td>\n",
       "    </tr>\n",
       "  </tbody>\n",
       "</table>\n",
       "<p>1 rows × 28 columns</p>\n",
       "</div>"
      ],
      "text/plain": [
       "                 track_uri              artist_uri               album_uri  \\\n",
       "54  1FtIVI4TDaPNJlIoJrHKBA  001aJOc7CSQVo3XzoLG4DK  0mxxWnON99ABmmeQdqX8Ds   \n",
       "\n",
       "    danceability  energy  key  loudness  mode  speechiness  acousticness  ...  \\\n",
       "54         0.751   0.288  6.0   -17.018   1.0       0.0304         0.324  ...   \n",
       "\n",
       "                                         analysis_url  duration_ms  \\\n",
       "54  https://api.spotify.com/v1/audio-analysis/1FtI...     327200.0   \n",
       "\n",
       "    time_signature    year  artists explicit          name track_pop  \\\n",
       "54             4.0  1989.0  One Way      0.0  Lady You Are      26.0   \n",
       "\n",
       "   artist_pop                                      artist_genres  \n",
       "54       44.0  classic_soul disco funk new_jack_swing p_funk ...  \n",
       "\n",
       "[1 rows x 28 columns]"
      ]
     },
     "execution_count": 13,
     "metadata": {},
     "output_type": "execute_result"
    }
   ],
   "source": [
    "df.head(1)"
   ]
  },
  {
   "cell_type": "code",
   "execution_count": 15,
   "metadata": {},
   "outputs": [
    {
     "data": {
      "text/plain": [
       "Index(['track_uri', 'artist_uri', 'album_uri', 'danceability', 'energy', 'key',\n",
       "       'loudness', 'mode', 'speechiness', 'acousticness', 'instrumentalness',\n",
       "       'liveness', 'valence', 'tempo', 'type', 'id', 'uri', 'track_href',\n",
       "       'analysis_url', 'duration_ms', 'time_signature', 'year', 'artists',\n",
       "       'explicit', 'name', 'track_pop', 'artist_pop', 'artist_genres'],\n",
       "      dtype='object')"
      ]
     },
     "execution_count": 15,
     "metadata": {},
     "output_type": "execute_result"
    }
   ],
   "source": [
    "df.columns"
   ]
  },
  {
   "cell_type": "code",
   "execution_count": 18,
   "metadata": {},
   "outputs": [
    {
     "data": {
      "text/plain": [
       "(189340, 18)"
      ]
     },
     "execution_count": 18,
     "metadata": {},
     "output_type": "execute_result"
    }
   ],
   "source": [
    "df.shape"
   ]
  },
  {
   "cell_type": "code",
   "execution_count": 17,
   "metadata": {},
   "outputs": [],
   "source": [
    "df.drop(columns=['type', 'track_uri', 'artist_uri', 'album_uri', 'uri', 'track_href', 'analysis_url', 'time_signature', 'artist_pop', 'artist_genres'], inplace=True) \n",
    "df.rename(columns={'track_pop': 'popularity'}, inplace=True)\n",
    "df = df.drop_duplicates(subset=['name', 'year', 'artists'])"
   ]
  },
  {
   "cell_type": "code",
   "execution_count": 19,
   "metadata": {},
   "outputs": [],
   "source": [
    "df.to_csv('data/AWS_data.csv',index=False)"
   ]
  },
  {
   "cell_type": "markdown",
   "metadata": {},
   "source": [
    "## Data Preprocessing"
   ]
  },
  {
   "cell_type": "markdown",
   "metadata": {},
   "source": [
    "Create five point buckets for track and artist popularity .\n",
    "\n",
    "and 50 point buckets for the track release date."
   ]
  },
  {
   "cell_type": "code",
   "execution_count": 32,
   "metadata": {},
   "outputs": [],
   "source": [
    "df['track_pop'] = df['track_pop'].apply(lambda x: int(x/5))\n",
    "df['artist_pop'] = df['artist_pop'].apply(lambda x: int(x/5))"
   ]
  },
  {
   "cell_type": "code",
   "execution_count": 33,
   "metadata": {},
   "outputs": [],
   "source": [
    "df['track_release_date'] = df['track_release_date'].apply(lambda x: x.split('-')[0])\n",
    "df['track_release_date']=df['track_release_date'].astype('int16')\n",
    "df['track_release_date'] = df['track_release_date'].apply(lambda x: int(x/50))"
   ]
  },
  {
   "cell_type": "code",
   "execution_count": 34,
   "metadata": {},
   "outputs": [
    {
     "data": {
      "text/html": [
       "<div>\n",
       "<style scoped>\n",
       "    .dataframe tbody tr th:only-of-type {\n",
       "        vertical-align: middle;\n",
       "    }\n",
       "\n",
       "    .dataframe tbody tr th {\n",
       "        vertical-align: top;\n",
       "    }\n",
       "\n",
       "    .dataframe thead th {\n",
       "        text-align: right;\n",
       "    }\n",
       "</style>\n",
       "<table border=\"1\" class=\"dataframe\">\n",
       "  <thead>\n",
       "    <tr style=\"text-align: right;\">\n",
       "      <th></th>\n",
       "      <th>track_uri</th>\n",
       "      <th>artist_uri</th>\n",
       "      <th>album_uri</th>\n",
       "      <th>danceability</th>\n",
       "      <th>energy</th>\n",
       "      <th>key</th>\n",
       "      <th>loudness</th>\n",
       "      <th>mode</th>\n",
       "      <th>speechiness</th>\n",
       "      <th>acousticness</th>\n",
       "      <th>...</th>\n",
       "      <th>id</th>\n",
       "      <th>uri</th>\n",
       "      <th>track_href</th>\n",
       "      <th>analysis_url</th>\n",
       "      <th>duration_ms</th>\n",
       "      <th>time_signature</th>\n",
       "      <th>track_release_date</th>\n",
       "      <th>track_pop</th>\n",
       "      <th>artist_pop</th>\n",
       "      <th>artist_genres</th>\n",
       "    </tr>\n",
       "  </thead>\n",
       "  <tbody>\n",
       "    <tr>\n",
       "      <th>27</th>\n",
       "      <td>2xW3EQxFuuFVgU6RCeZGe9</td>\n",
       "      <td>00190FC20vIUv0wXpeTf8S</td>\n",
       "      <td>05iZ9CNkJp5TURl0ET55hL</td>\n",
       "      <td>0.66</td>\n",
       "      <td>0.788</td>\n",
       "      <td>2.0</td>\n",
       "      <td>-6.066</td>\n",
       "      <td>1.0</td>\n",
       "      <td>0.0788</td>\n",
       "      <td>0.0312</td>\n",
       "      <td>...</td>\n",
       "      <td>2xW3EQxFuuFVgU6RCeZGe9</td>\n",
       "      <td>spotify:track:2xW3EQxFuuFVgU6RCeZGe9</td>\n",
       "      <td>https://api.spotify.com/v1/tracks/2xW3EQxFuuFV...</td>\n",
       "      <td>https://api.spotify.com/v1/audio-analysis/2xW3...</td>\n",
       "      <td>204233.0</td>\n",
       "      <td>4.0</td>\n",
       "      <td>40</td>\n",
       "      <td>4</td>\n",
       "      <td>5</td>\n",
       "      <td>beatboxing</td>\n",
       "    </tr>\n",
       "  </tbody>\n",
       "</table>\n",
       "<p>1 rows × 25 columns</p>\n",
       "</div>"
      ],
      "text/plain": [
       "                 track_uri              artist_uri               album_uri  \\\n",
       "27  2xW3EQxFuuFVgU6RCeZGe9  00190FC20vIUv0wXpeTf8S  05iZ9CNkJp5TURl0ET55hL   \n",
       "\n",
       "    danceability  energy  key  loudness  mode  speechiness  acousticness  ...  \\\n",
       "27          0.66   0.788  2.0    -6.066   1.0       0.0788        0.0312  ...   \n",
       "\n",
       "                        id                                   uri  \\\n",
       "27  2xW3EQxFuuFVgU6RCeZGe9  spotify:track:2xW3EQxFuuFVgU6RCeZGe9   \n",
       "\n",
       "                                           track_href  \\\n",
       "27  https://api.spotify.com/v1/tracks/2xW3EQxFuuFV...   \n",
       "\n",
       "                                         analysis_url duration_ms  \\\n",
       "27  https://api.spotify.com/v1/audio-analysis/2xW3...    204233.0   \n",
       "\n",
       "   time_signature track_release_date track_pop artist_pop  artist_genres  \n",
       "27            4.0                 40         4          5     beatboxing  \n",
       "\n",
       "[1 rows x 25 columns]"
      ]
     },
     "execution_count": 34,
     "metadata": {},
     "output_type": "execute_result"
    }
   ],
   "source": [
    "df.head(1)"
   ]
  },
  {
   "cell_type": "code",
   "execution_count": 35,
   "metadata": {},
   "outputs": [],
   "source": [
    "df.to_csv('data/1M_unique_processed_data.csv',index=False)"
   ]
  }
 ],
 "metadata": {
  "kernelspec": {
   "display_name": "Python 3.9.13 ('base')",
   "language": "python",
   "name": "python3"
  },
  "language_info": {
   "codemirror_mode": {
    "name": "ipython",
    "version": 3
   },
   "file_extension": ".py",
   "mimetype": "text/x-python",
   "name": "python",
   "nbconvert_exporter": "python",
   "pygments_lexer": "ipython3",
   "version": "3.11.5"
  },
  "orig_nbformat": 4,
  "vscode": {
   "interpreter": {
    "hash": "e246d2215c418239c9316a1ebf2d8abb44dc50b2e5b0e29defd87143398aa387"
   }
  }
 },
 "nbformat": 4,
 "nbformat_minor": 2
}
